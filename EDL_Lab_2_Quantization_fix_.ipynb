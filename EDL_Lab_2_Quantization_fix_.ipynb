{
  "cells": [
    {
      "cell_type": "markdown",
      "metadata": {
        "id": "view-in-github",
        "colab_type": "text"
      },
      "source": [
        "<a href=\"https://colab.research.google.com/github/VladelProg/-/blob/master/EDL_Lab_2_Quantization_fix_.ipynb\" target=\"_parent\"><img src=\"https://colab.research.google.com/assets/colab-badge.svg\" alt=\"Open In Colab\"/></a>"
      ]
    },
    {
      "cell_type": "markdown",
      "metadata": {
        "id": "pmi4V4VaYR6i"
      },
      "source": [
        "# Квантование"
      ]
    },
    {
      "cell_type": "markdown",
      "metadata": {
        "id": "vhVOMmbAaHRd"
      },
      "source": [
        "\n",
        "## Цели\n",
        "\n",
        "В этой работе предлагается проквантовать классическую модель нейронной сети, чтобы уменьшить как размер модели, так и задержку.\n",
        "\n",
        "Цели этого задания следующие:\n",
        "\n",
        "- Разобрать базовую концепцию **квантования**\n",
        "- Реализовать и применить **квантование k-средних**\n",
        "- Реализовать и применить **обучение с учетом квантования** для квантования k-средних\n",
        "- Реализовать и применить **линейное квантование**\n",
        "- Реализовать и применить **целочисленный инференс** для линейного квантования\n",
        "- Пронаблюдать улучшение производительности (например, ускорения) за счет квантования\n",
        "- Понять различия и компромиссы между разными подходами к квантованию"
      ]
    },
    {
      "cell_type": "markdown",
      "metadata": {
        "id": "W6HPdGZ7aHZo"
      },
      "source": [
        "\n",
        "\n",
        "## Содержание\n",
        "\n",
        "Работа делится на 2 основных раздела: ***Квантование методом K-средних*** и ***Линейное квантование***.\n",
        "\n",
        "Всего ***10*** заданий:\n",
        "- Для *Квантования методом K-средних* есть ***3*** задания (вопрос 1-3).\n",
        "- Для *Линейного квантования* есть ***6*** задания (вопрос 4-9).\n",
        "- В последнем (10) вопросе предлагается сравнить квантование методом k-средних и линейное квантование."
      ]
    },
    {
      "cell_type": "markdown",
      "metadata": {
        "id": "2tFjnZZVlIFL"
      },
      "source": [
        "# Сетап"
      ]
    },
    {
      "cell_type": "markdown",
      "metadata": {
        "id": "Bz16rxaSH_7f"
      },
      "source": [
        "Ставим необходимые пакеты, загрузим наборы данных и предварительно обученную модель. Здесь мы используем набор данных CIFAR10 и сеть VGG, по аналогии, как мы использовали в предыдущей работе.\n",
        "\n"
      ]
    },
    {
      "cell_type": "code",
      "execution_count": null,
      "metadata": {
        "id": "nyngBRTXQG2n"
      },
      "outputs": [],
      "source": [
        "print('Installing torchprofile...')\n",
        "!pip install torchprofile 1>/dev/null\n",
        "print('Installing fast-pytorch-kmeans...')\n",
        "! pip install fast-pytorch-kmeans 1>/dev/null\n",
        "print('All required packages have been successfully installed!')"
      ]
    },
    {
      "cell_type": "code",
      "execution_count": null,
      "metadata": {
        "id": "zDWoVhv_wGmA"
      },
      "outputs": [],
      "source": [
        "import copy\n",
        "import math\n",
        "import random\n",
        "from collections import OrderedDict, defaultdict\n",
        "\n",
        "from matplotlib import pyplot as plt\n",
        "from matplotlib.colors import ListedColormap\n",
        "import numpy as np\n",
        "from tqdm.auto import tqdm\n",
        "\n",
        "import torch\n",
        "from torch import nn\n",
        "from torch.optim import *\n",
        "from torch.optim.lr_scheduler import *\n",
        "from torch.utils.data import DataLoader\n",
        "from torchprofile import profile_macs\n",
        "from torchvision.datasets import *\n",
        "from torchvision.transforms import *\n",
        "\n",
        "from torchprofile import profile_macs\n",
        "\n",
        "assert torch.cuda.is_available(), \\\n",
        "\"The current runtime does not have CUDA support.\" \\\n",
        "\"Please go to menu bar (Runtime - Change runtime type) and select GPU\""
      ]
    },
    {
      "cell_type": "code",
      "execution_count": null,
      "metadata": {
        "id": "nLcJUofTDKud"
      },
      "outputs": [],
      "source": [
        "random.seed(0)\n",
        "np.random.seed(0)\n",
        "torch.manual_seed(0)"
      ]
    },
    {
      "cell_type": "code",
      "execution_count": null,
      "metadata": {
        "id": "6kpu78GyHGA-"
      },
      "outputs": [],
      "source": [
        "def download_url(url, model_dir='.', overwrite=False):\n",
        "    import os, sys\n",
        "    from urllib.request import urlretrieve\n",
        "    target_dir = url.split('/')[-1]\n",
        "    model_dir = os.path.expanduser(model_dir)\n",
        "    try:\n",
        "        if not os.path.exists(model_dir):\n",
        "            os.makedirs(model_dir)\n",
        "        model_dir = os.path.join(model_dir, target_dir)\n",
        "        cached_file = model_dir\n",
        "        if not os.path.exists(cached_file) or overwrite:\n",
        "            sys.stderr.write('Downloading: \"{}\" to {}\\n'.format(url, cached_file))\n",
        "            urlretrieve(url, cached_file)\n",
        "        return cached_file\n",
        "    except Exception as e:\n",
        "        # remove lock file so download can be executed next time.\n",
        "        os.remove(os.path.join(model_dir, 'download.lock'))\n",
        "        sys.stderr.write('Failed to download from url %s' % url + '\\n' + str(e) + '\\n')\n",
        "        return None"
      ]
    },
    {
      "cell_type": "code",
      "execution_count": null,
      "metadata": {
        "id": "qqInscyoifYN"
      },
      "outputs": [],
      "source": [
        "class VGG(nn.Module):\n",
        "  ARCH = [64, 128, 'M', 256, 256, 'M', 512, 512, 'M', 512, 512, 'M']\n",
        "\n",
        "  def __init__(self) -> None:\n",
        "    super().__init__()\n",
        "\n",
        "    layers = []\n",
        "    counts = defaultdict(int)\n",
        "\n",
        "    def add(name: str, layer: nn.Module) -> None:\n",
        "      layers.append((f\"{name}{counts[name]}\", layer))\n",
        "      counts[name] += 1\n",
        "\n",
        "    in_channels = 3\n",
        "    for x in self.ARCH:\n",
        "      if x != 'M':\n",
        "        # conv-bn-relu\n",
        "        add(\"conv\", nn.Conv2d(in_channels, x, 3, padding=1, bias=False))\n",
        "        add(\"bn\", nn.BatchNorm2d(x))\n",
        "        add(\"relu\", nn.ReLU(True))\n",
        "        in_channels = x\n",
        "      else:\n",
        "        # maxpool\n",
        "        add(\"pool\", nn.MaxPool2d(2))\n",
        "    add(\"avgpool\", nn.AvgPool2d(2))\n",
        "    self.backbone = nn.Sequential(OrderedDict(layers))\n",
        "    self.classifier = nn.Linear(512, 10)\n",
        "\n",
        "  def forward(self, x: torch.Tensor) -> torch.Tensor:\n",
        "    # backbone: [N, 3, 32, 32] => [N, 512, 2, 2]\n",
        "    x = self.backbone(x)\n",
        "\n",
        "    # avgpool: [N, 512, 2, 2] => [N, 512]\n",
        "    # x = x.mean([2, 3])\n",
        "    x = x.view(x.shape[0], -1)\n",
        "\n",
        "    # classifier: [N, 512] => [N, 10]\n",
        "    x = self.classifier(x)\n",
        "    return x"
      ]
    },
    {
      "cell_type": "code",
      "execution_count": null,
      "metadata": {
        "id": "WqnPt0LUEaWi"
      },
      "outputs": [],
      "source": [
        "def train(\n",
        "  model: nn.Module,\n",
        "  dataloader: DataLoader,\n",
        "  criterion: nn.Module,\n",
        "  optimizer: Optimizer,\n",
        "  scheduler: LambdaLR,\n",
        "  callbacks = None\n",
        ") -> None:\n",
        "  model.train()\n",
        "\n",
        "  for inputs, targets in tqdm(dataloader, desc='train', leave=False):\n",
        "    # Move the data from CPU to GPU\n",
        "    inputs = inputs.cuda()\n",
        "    targets = targets.cuda()\n",
        "\n",
        "    # Reset the gradients (from the last iteration)\n",
        "    optimizer.zero_grad()\n",
        "\n",
        "    # Forward inference\n",
        "    outputs = model(inputs)\n",
        "    loss = criterion(outputs, targets)\n",
        "\n",
        "    # Backward propagation\n",
        "    loss.backward()\n",
        "\n",
        "    # Update optimizer and LR scheduler\n",
        "    optimizer.step()\n",
        "    scheduler.step()\n",
        "\n",
        "    if callbacks is not None:\n",
        "        for callback in callbacks:\n",
        "            callback()"
      ]
    },
    {
      "cell_type": "code",
      "execution_count": null,
      "metadata": {
        "id": "wVA1_oeUEUf6"
      },
      "outputs": [],
      "source": [
        "@torch.inference_mode()\n",
        "def evaluate(\n",
        "  model: nn.Module,\n",
        "  dataloader: DataLoader,\n",
        "  extra_preprocess = None\n",
        ") -> float:\n",
        "  model.eval()\n",
        "\n",
        "  num_samples = 0\n",
        "  num_correct = 0\n",
        "\n",
        "  for inputs, targets in tqdm(dataloader, desc=\"eval\", leave=False):\n",
        "    # отправляем данные на GPU\n",
        "    inputs = inputs.cuda()\n",
        "    if extra_preprocess is not None:\n",
        "        for preprocess in extra_preprocess:\n",
        "            inputs = preprocess(inputs)\n",
        "\n",
        "    targets = targets.cuda()\n",
        "\n",
        "    # инференс\n",
        "    outputs = model(inputs)\n",
        "\n",
        "    # преобразуем логиты в индексы классов\n",
        "    outputs = outputs.argmax(dim=1)\n",
        "\n",
        "    # считаем метрику\n",
        "    num_samples += targets.size(0)\n",
        "    num_correct += (outputs == targets).sum()\n",
        "\n",
        "  return (num_correct / num_samples * 100).item()"
      ]
    },
    {
      "cell_type": "markdown",
      "metadata": {
        "id": "QBBKNhKNlAwE"
      },
      "source": [
        "Еще вспомогательные функции (флопс, размер модели и т. д.)"
      ]
    },
    {
      "cell_type": "code",
      "execution_count": null,
      "metadata": {
        "id": "mRdK_ThzlMxL"
      },
      "outputs": [],
      "source": [
        "def get_model_flops(model, inputs):\n",
        "    num_macs = profile_macs(model, inputs)\n",
        "    return num_macs"
      ]
    },
    {
      "cell_type": "code",
      "execution_count": null,
      "metadata": {
        "id": "cepv4SUalU79"
      },
      "outputs": [],
      "source": [
        "def get_model_size(model: nn.Module, data_width=32):\n",
        "    \"\"\"\n",
        "    считаем размер мдели в битах\n",
        "    :param data_width: #bits per element\n",
        "    \"\"\"\n",
        "    num_elements = 0\n",
        "    for param in model.parameters():\n",
        "        num_elements += param.numel()\n",
        "    return num_elements * data_width\n",
        "\n",
        "Byte = 8\n",
        "KiB = 1024 * Byte\n",
        "MiB = 1024 * KiB\n",
        "GiB = 1024 * MiB"
      ]
    },
    {
      "cell_type": "markdown",
      "metadata": {
        "id": "CGhomDjsaDB5"
      },
      "source": [
        "\n",
        "Функции для проверки\n"
      ]
    },
    {
      "cell_type": "code",
      "execution_count": null,
      "metadata": {
        "id": "WOJBXVXQeCXF"
      },
      "outputs": [],
      "source": [
        "def test_k_means_quantize(\n",
        "    test_tensor=torch.tensor([\n",
        "        [-0.3747,  0.0874,  0.3200, -0.4868,  0.4404],\n",
        "        [-0.0402,  0.2322, -0.2024, -0.4986,  0.1814],\n",
        "        [ 0.3102, -0.3942, -0.2030,  0.0883, -0.4741],\n",
        "        [-0.1592, -0.0777, -0.3946, -0.2128,  0.2675],\n",
        "        [ 0.0611, -0.1933, -0.4350,  0.2928, -0.1087]]),\n",
        "    bitwidth=2):\n",
        "    def plot_matrix(tensor, ax, title, cmap=ListedColormap(['white'])):\n",
        "        ax.imshow(tensor.cpu().numpy(), vmin=-0.5, vmax=0.5, cmap=cmap)\n",
        "        ax.set_title(title)\n",
        "        ax.set_yticklabels([])\n",
        "        ax.set_xticklabels([])\n",
        "        for i in range(tensor.shape[1]):\n",
        "            for j in range(tensor.shape[0]):\n",
        "                text = ax.text(j, i, f'{tensor[i, j].item():.2f}',\n",
        "                                ha=\"center\", va=\"center\", color=\"k\")\n",
        "\n",
        "    fig, axes = plt.subplots(1,2, figsize=(8, 12))\n",
        "    ax_left, ax_right = axes.ravel()\n",
        "\n",
        "    print(test_tensor)\n",
        "    plot_matrix(test_tensor, ax_left, 'исходный тензор')\n",
        "\n",
        "    num_unique_values_before_quantization = test_tensor.unique().numel()\n",
        "    k_means_quantize(test_tensor, bitwidth=bitwidth)\n",
        "    num_unique_values_after_quantization = test_tensor.unique().numel()\n",
        "    print('* Тестируем k_means_quantize()')\n",
        "    print(f'    целевая разрядность: {bitwidth} bits')\n",
        "    print(f'        число уникальных значений перед k-means квантованием: {num_unique_values_before_quantization}')\n",
        "    print(f'        число уникальных значений после k-means квантования: {num_unique_values_after_quantization}')\n",
        "    assert num_unique_values_after_quantization == min((1 << bitwidth), num_unique_values_before_quantization)\n",
        "    print('* Test passed.')\n",
        "\n",
        "    plot_matrix(test_tensor, ax_right, f'{bitwidth}-bit k-means квантованный тензор', cmap='tab20c')\n",
        "    fig.tight_layout()\n",
        "    plt.show()"
      ]
    },
    {
      "cell_type": "code",
      "execution_count": null,
      "metadata": {
        "id": "jI92NMafaCk7"
      },
      "outputs": [],
      "source": [
        "def test_linear_quantize(\n",
        "    test_tensor=torch.tensor([\n",
        "        [ 0.0523,  0.6364, -0.0968, -0.0020,  0.1940],\n",
        "        [ 0.7500,  0.5507,  0.6188, -0.1734,  0.4677],\n",
        "        [-0.0669,  0.3836,  0.4297,  0.6267, -0.0695],\n",
        "        [ 0.1536, -0.0038,  0.6075,  0.6817,  0.0601],\n",
        "        [ 0.6446, -0.2500,  0.5376, -0.2226,  0.2333]]),\n",
        "    quantized_test_tensor=torch.tensor([\n",
        "        [-1,  1, -1, -1,  0],\n",
        "        [ 1,  1,  1, -2,  0],\n",
        "        [-1,  0,  0,  1, -1],\n",
        "        [-1, -1,  1,  1, -1],\n",
        "        [ 1, -2,  1, -2,  0]], dtype=torch.int8),\n",
        "    real_min=-0.25, real_max=0.75, bitwidth=2, scale=1/3, zero_point=-1):\n",
        "    def plot_matrix(tensor, ax, title, vmin=0, vmax=1, cmap=ListedColormap(['white'])):\n",
        "        ax.imshow(tensor.cpu().numpy(), vmin=vmin, vmax=vmax, cmap=cmap)\n",
        "        ax.set_title(title)\n",
        "        ax.set_yticklabels([])\n",
        "        ax.set_xticklabels([])\n",
        "        for i in range(tensor.shape[0]):\n",
        "            for j in range(tensor.shape[1]):\n",
        "                datum = tensor[i, j].item()\n",
        "                if isinstance(datum, float):\n",
        "                    text = ax.text(j, i, f'{datum:.2f}',\n",
        "                                    ha=\"center\", va=\"center\", color=\"k\")\n",
        "                else:\n",
        "                    text = ax.text(j, i, f'{datum}',\n",
        "                                    ha=\"center\", va=\"center\", color=\"k\")\n",
        "    quantized_min, quantized_max = get_quantized_range(bitwidth)\n",
        "    fig, axes = plt.subplots(1,3, figsize=(10, 32))\n",
        "    plot_matrix(test_tensor, axes[0], 'исходный тензор', vmin=real_min, vmax=real_max)\n",
        "    _quantized_test_tensor = linear_quantize(\n",
        "        test_tensor, bitwidth=bitwidth, scale=scale, zero_point=zero_point)\n",
        "    _reconstructed_test_tensor = scale * (_quantized_test_tensor.float() - zero_point)\n",
        "    print('* Тестируем linear_quantize()')\n",
        "    print(f'    целевая разрядность: {bitwidth} bits')\n",
        "    print(f'        коэфф. масштаб: {scale}')\n",
        "    print(f'        нулевая точка: {zero_point}')\n",
        "    assert _quantized_test_tensor.equal(quantized_test_tensor)\n",
        "    print('* Test passed.')\n",
        "    plot_matrix(_quantized_test_tensor, axes[1], f'2-bit линейно квантованный тензор',\n",
        "                vmin=quantized_min, vmax=quantized_max, cmap='tab20c')\n",
        "    plot_matrix(_reconstructed_test_tensor, axes[2], f'восстановленный тензор',\n",
        "                vmin=real_min, vmax=real_max, cmap='tab20c')\n",
        "    fig.tight_layout()\n",
        "    plt.show()\n"
      ]
    },
    {
      "cell_type": "code",
      "execution_count": null,
      "metadata": {
        "id": "vK-56lHteduz"
      },
      "outputs": [],
      "source": [
        "def test_quantized_fc(\n",
        "    input=torch.tensor([\n",
        "        [0.6118, 0.7288, 0.8511, 0.2849, 0.8427, 0.7435, 0.4014, 0.2794],\n",
        "        [0.3676, 0.2426, 0.1612, 0.7684, 0.6038, 0.0400, 0.2240, 0.4237],\n",
        "        [0.6565, 0.6878, 0.4670, 0.3470, 0.2281, 0.8074, 0.0178, 0.3999],\n",
        "        [0.1863, 0.3567, 0.6104, 0.0497, 0.0577, 0.2990, 0.6687, 0.8626]]),\n",
        "    weight=torch.tensor([\n",
        "        [ 1.2626e-01, -1.4752e-01,  8.1910e-02,  2.4982e-01, -1.0495e-01,\n",
        "         -1.9227e-01, -1.8550e-01, -1.5700e-01],\n",
        "        [ 2.7624e-01, -4.3835e-01,  5.1010e-02, -1.2020e-01, -2.0344e-01,\n",
        "          1.0202e-01, -2.0799e-01,  2.4112e-01],\n",
        "        [-3.8216e-01, -2.8047e-01,  8.5238e-02, -4.2504e-01, -2.0952e-01,\n",
        "          3.2018e-01, -3.3619e-01,  2.0219e-01],\n",
        "        [ 8.9233e-02, -1.0124e-01,  1.1467e-01,  2.0091e-01,  1.1438e-01,\n",
        "         -4.2427e-01,  1.0178e-01, -3.0941e-04],\n",
        "        [-1.8837e-02, -2.1256e-01, -4.5285e-01,  2.0949e-01, -3.8684e-01,\n",
        "         -1.7100e-01, -4.5331e-01, -2.0433e-01],\n",
        "        [-2.0038e-01, -5.3757e-02,  1.8997e-01, -3.6866e-01,  5.5484e-02,\n",
        "          1.5643e-01, -2.3538e-01,  2.1103e-01],\n",
        "        [-2.6875e-01,  2.4984e-01, -2.3514e-01,  2.5527e-01,  2.0322e-01,\n",
        "          3.7675e-01,  6.1563e-02,  1.7201e-01],\n",
        "        [ 3.3541e-01, -3.3555e-01, -4.3349e-01,  4.3043e-01, -2.0498e-01,\n",
        "         -1.8366e-01, -9.1553e-02, -4.1168e-01]]),\n",
        "    bias=torch.tensor([ 0.1954, -0.2756,  0.3113,  0.1149,  0.4274,  0.2429, -0.1721, -0.2502]),\n",
        "    quantized_bias=torch.tensor([ 3, -2,  3,  1,  3,  2, -2, -2], dtype=torch.int32),\n",
        "    shifted_quantized_bias=torch.tensor([-1,  0, -3, -1, -3,  0,  2, -4], dtype=torch.int32),\n",
        "    calc_quantized_output=torch.tensor([\n",
        "        [ 0, -1,  0, -1, -1,  0,  1, -2],\n",
        "        [ 0,  0, -1,  0,  0,  0,  0, -1],\n",
        "        [ 0,  0,  0, -1,  0,  0,  0, -1],\n",
        "        [ 0,  0,  0,  0,  0,  1, -1, -2]], dtype=torch.int8),\n",
        "    bitwidth=2, batch_size=4, in_channels=8, out_channels=8):\n",
        "    def plot_matrix(tensor, ax, title, vmin=0, vmax=1, cmap=ListedColormap(['white'])):\n",
        "        ax.imshow(tensor.cpu().numpy(), vmin=vmin, vmax=vmax, cmap=cmap)\n",
        "        ax.set_title(title)\n",
        "        ax.set_yticklabels([])\n",
        "        ax.set_xticklabels([])\n",
        "        for i in range(tensor.shape[0]):\n",
        "            for j in range(tensor.shape[1]):\n",
        "                datum = tensor[i, j].item()\n",
        "                if isinstance(datum, float):\n",
        "                    text = ax.text(j, i, f'{datum:.2f}',\n",
        "                                    ha=\"center\", va=\"center\", color=\"k\")\n",
        "                else:\n",
        "                    text = ax.text(j, i, f'{datum}',\n",
        "                                    ha=\"center\", va=\"center\", color=\"k\")\n",
        "\n",
        "    output = torch.nn.functional.linear(input, weight, bias)\n",
        "\n",
        "    quantized_weight, weight_scale, weight_zero_point = \\\n",
        "        linear_quantize_weight_per_channel(weight, bitwidth)\n",
        "    quantized_input, input_scale, input_zero_point = \\\n",
        "        linear_quantize_feature(input, bitwidth)\n",
        "    _quantized_bias, bias_scale, bias_zero_point = \\\n",
        "        linear_quantize_bias_per_output_channel(bias, weight_scale, input_scale)\n",
        "    assert _quantized_bias.equal(_quantized_bias)\n",
        "    _shifted_quantized_bias = \\\n",
        "        shift_quantized_linear_bias(quantized_bias, quantized_weight, input_zero_point)\n",
        "    assert _shifted_quantized_bias.equal(shifted_quantized_bias)\n",
        "    quantized_output, output_scale, output_zero_point = \\\n",
        "        linear_quantize_feature(output, bitwidth)\n",
        "\n",
        "    _calc_quantized_output = quantized_linear(\n",
        "        quantized_input, quantized_weight, shifted_quantized_bias,\n",
        "        bitwidth, bitwidth,\n",
        "        input_zero_point, output_zero_point,\n",
        "        input_scale, weight_scale, output_scale)\n",
        "    assert _calc_quantized_output.equal(calc_quantized_output)\n",
        "\n",
        "    reconstructed_weight = weight_scale * (quantized_weight.float() - weight_zero_point)\n",
        "    reconstructed_input = input_scale * (quantized_input.float() - input_zero_point)\n",
        "    reconstructed_bias = bias_scale * (quantized_bias.float() - bias_zero_point)\n",
        "    reconstructed_calc_output = output_scale * (calc_quantized_output.float() - output_zero_point)\n",
        "\n",
        "    fig, axes = plt.subplots(3,3, figsize=(15, 12))\n",
        "    quantized_min, quantized_max = get_quantized_range(bitwidth)\n",
        "    plot_matrix(weight, axes[0, 0], 'исходный вес', vmin=-0.5, vmax=0.5)\n",
        "    plot_matrix(input.t(), axes[1, 0], 'оригинальный вход', vmin=0, vmax=1)\n",
        "    plot_matrix(output.t(), axes[2, 0], 'оригинальный выход', vmin=-1.5, vmax=1.5)\n",
        "    plot_matrix(quantized_weight, axes[0, 1], f'{bitwidth}-bit линейно квантованный вес',\n",
        "                vmin=quantized_min, vmax=quantized_max, cmap='tab20c')\n",
        "    plot_matrix(quantized_input.t(), axes[1, 1], f'{bitwidth}-bit линейно квантованный вход',\n",
        "                vmin=quantized_min, vmax=quantized_max, cmap='tab20c')\n",
        "    plot_matrix(calc_quantized_output.t(), axes[2, 1], f'квантованный выход из quantized_linear()',\n",
        "                vmin=quantized_min, vmax=quantized_max, cmap='tab20c')\n",
        "    plot_matrix(reconstructed_weight, axes[0, 2], f'восстановленный вес',\n",
        "                vmin=-0.5, vmax=0.5, cmap='tab20c')\n",
        "    plot_matrix(reconstructed_input.t(), axes[1, 2], f'восстановленный вход',\n",
        "                vmin=0, vmax=1, cmap='tab20c')\n",
        "    plot_matrix(reconstructed_calc_output.t(), axes[2, 2], f'восстановленный выход',\n",
        "                vmin=-1.5, vmax=1.5, cmap='tab20c')\n",
        "\n",
        "    print('* Тест quantized_fc()')\n",
        "    print(f'    целевая разрядность: {bitwidth} bits')\n",
        "    print(f'      размер батча: {batch_size}')\n",
        "    print(f'      входные каналы: {in_channels}')\n",
        "    print(f'      выходные каналы: {out_channels}')\n",
        "    print('* Test passed.')\n",
        "    fig.tight_layout()\n",
        "    plt.show()"
      ]
    },
    {
      "cell_type": "markdown",
      "metadata": {
        "id": "mDDp0OWLh6vK"
      },
      "source": [
        "Загрузим предварительно обученную модель"
      ]
    },
    {
      "cell_type": "code",
      "execution_count": null,
      "metadata": {
        "id": "oNEYAZ_TQf7d"
      },
      "outputs": [],
      "source": [
        "checkpoint_url = \"https://cloud.tpu.ru/index.php/s/SdEXQPKgH6aFJG8/download/vgg.cifar.pretrained.pth\"\n",
        "\n",
        "checkpoint = torch.load(download_url(checkpoint_url), map_location=\"cpu\")\n",
        "model = VGG().cuda()\n",
        "print(f\"=> loading checkpoint '{checkpoint_url}'\")\n",
        "model.load_state_dict(checkpoint['state_dict'])\n",
        "recover_model = lambda : model.load_state_dict(checkpoint['state_dict'])"
      ]
    },
    {
      "cell_type": "code",
      "execution_count": null,
      "metadata": {
        "id": "jQb3_6zlQfib"
      },
      "outputs": [],
      "source": [
        "image_size = 32\n",
        "transforms = {\n",
        "    \"train\": Compose([\n",
        "        RandomCrop(image_size, padding=4),\n",
        "        RandomHorizontalFlip(),\n",
        "        ToTensor(),\n",
        "    ]),\n",
        "    \"test\": ToTensor(),\n",
        "}\n",
        "dataset = {}\n",
        "for split in [\"train\", \"test\"]:\n",
        "  dataset[split] = CIFAR10(\n",
        "    root=\"data/cifar10\",\n",
        "    train=(split == \"train\"),\n",
        "    download=True,\n",
        "    transform=transforms[split],\n",
        "  )\n",
        "dataloader = {}\n",
        "for split in ['train', 'test']:\n",
        "  dataloader[split] = DataLoader(\n",
        "    dataset[split],\n",
        "    batch_size=512,\n",
        "    shuffle=(split == 'train'),\n",
        "    num_workers=0,\n",
        "    pin_memory=True,\n",
        "  )"
      ]
    },
    {
      "cell_type": "markdown",
      "metadata": {
        "id": "rjESsg5nkdBG"
      },
      "source": [
        "# Оценим точность и размер модели FP32"
      ]
    },
    {
      "cell_type": "code",
      "execution_count": null,
      "metadata": {
        "id": "DTiA8hxMkkbU"
      },
      "outputs": [],
      "source": [
        "fp32_model_accuracy = evaluate(model, dataloader['test'])\n",
        "fp32_model_size = get_model_size(model)\n",
        "print(f\"fp32 model has accuracy={fp32_model_accuracy:.2f}%\")\n",
        "print(f\"fp32 model has size={fp32_model_size/MiB:.2f} MiB\")"
      ]
    },
    {
      "cell_type": "markdown",
      "metadata": {
        "id": "6QdGiddu87p2"
      },
      "source": [
        "# K-Means квантование"
      ]
    },
    {
      "cell_type": "markdown",
      "metadata": {
        "id": "Gr0MvPoVTirU"
      },
      "source": [
        "Квантование сжимает сеть, сокращая количество бит на вес, необходимое для представления сети. Квантованная сеть может иметь более высокую скорость инференса с аппаратной поддержкой.\n",
        "\n",
        "В этом разделе мы рассмотрим квантование K-средних для нейронных сетей, как в [Deep Compression: Compressing Deep Neural Networks With Pruning, Trained Quantization\n",
        "And Huffman Coding](https://arxiv.org/pdf/1510.00149.pdf)."
      ]
    },
    {
      "cell_type": "markdown",
      "metadata": {
        "id": "KDoR8iXP0VDG"
      },
      "source": [
        "![kmeans.png](data:image/png;base64,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)"
      ]
    },
    {
      "cell_type": "markdown",
      "metadata": {
        "id": "mGkEk4CX0VIe"
      },
      "source": [
        "$n$-битное квантование при помощи k-средних разделит синапсы на $2^n$ кластеров, после чего синапсы в одном кластере будут иметь одинаковое значение веса.\n",
        "\n",
        "Таким образом, квантование k-средних создаст кодовую книгу (***codebook***), включающую\n",
        "* `centroids`: $2^n$ fp32 центров кластеров.\n",
        "* `labels`: $n$-битный целочисленный тензор с теми же элементами исходного тензора весов fp32. Каждое целое число указывает, к какому кластеру оно принадлежит.\n",
        "\n",
        "Во время инференса тензор fp32 генерируется на основе кодовой книги для инференса:\n",
        "\n",
        "> ***quantized_weight* = *codebook.centroids*\\[*codebook.labels*\\].view_as(weight)**"
      ]
    },
    {
      "cell_type": "code",
      "execution_count": null,
      "metadata": {
        "id": "Z2x1DbpfT3SD"
      },
      "outputs": [],
      "source": [
        "from collections import namedtuple\n",
        "\n",
        "Codebook = namedtuple('Codebook', ['centroids', 'labels'])"
      ]
    },
    {
      "cell_type": "markdown",
      "metadata": {
        "id": "f3BczeDEN0y6"
      },
      "source": [
        "## Задание 1\n",
        "\n",
        "Дополните следующую функцию квантования K-Means."
      ]
    },
    {
      "cell_type": "code",
      "execution_count": null,
      "metadata": {
        "id": "bnZ2b4hgOnoC"
      },
      "outputs": [],
      "source": [
        "from fast_pytorch_kmeans import KMeans\n",
        "\n",
        "def k_means_quantize(fp32_tensor: torch.Tensor, bitwidth=4, codebook=None):\n",
        "    \"\"\"\n",
        "    квантование тензора используя кластеризацию методом к-средних\n",
        "    :param fp32_tensor:\n",
        "    :param bitwidth: [int] битовая разрадность квантования, default=4\n",
        "    :param codebook: [Codebook] (центроиды кластера, лейблы в тензорном представлении)\n",
        "    :return:\n",
        "        [Codebook = (centroids, labels)]\n",
        "            centroids: [torch.(cuda.)FloatTensor] центры кластеров\n",
        "            labels: [torch.(cuda.)LongTensor] лейблы в формате тензора\n",
        "    \"\"\"\n",
        "    if codebook is None:\n",
        "        ############### YOUR CODE STARTS HERE ###############\n",
        "        # получить чисор кластеров на основе точности квантования\n",
        "\n",
        "        n_clusters = 0\n",
        "        ############### YOUR CODE ENDS HERE #################\n",
        "\n",
        "        # использование к-средних для получения центроидов\n",
        "\n",
        "        kmeans = KMeans(n_clusters=n_clusters, mode='euclidean', verbose=0)\n",
        "        labels = kmeans.fit_predict(fp32_tensor.view(-1, 1)).to(torch.long)\n",
        "        centroids = kmeans.centroids.to(torch.float).view(-1)\n",
        "        codebook = Codebook(centroids, labels)\n",
        "    ############### YOUR CODE STARTS HERE ###############\n",
        "\n",
        "    # декодирование кодбука в квантованный тензор к-средних для инференса\n",
        "\n",
        "    quantized_tensor = 0\n",
        "\n",
        "    ############### YOUR CODE ENDS HERE #################\n",
        "    fp32_tensor.set_(quantized_tensor.view_as(fp32_tensor))\n",
        "    return codebook"
      ]
    },
    {
      "cell_type": "markdown",
      "metadata": {
        "id": "XlVfIFRYPbfc"
      },
      "source": [
        "Проверим функциональность квантования k-средних, применив доработанную выше функцию к фиктивному тензору."
      ]
    },
    {
      "cell_type": "code",
      "execution_count": null,
      "metadata": {
        "id": "WZd8z1vGPdG8"
      },
      "outputs": [],
      "source": [
        "test_k_means_quantize()"
      ]
    },
    {
      "cell_type": "markdown",
      "metadata": {
        "id": "O4FIfKk8JQX5"
      },
      "source": [
        "## Задание 2"
      ]
    },
    {
      "cell_type": "markdown",
      "metadata": {
        "id": "o5mT6vV_JS5w"
      },
      "source": [
        "Последняя ячейка кода выполняет 2-битное квантование k-средних и выводит тензор до и после квантования. Каждый кластер отображается уникальным цветом. В квантованном тензоре отображается 4 уникальных цвета.\n",
        "\n",
        "Вопрос: Если выполняется квантование k-средних по *n*-биту, сколько уникальных цветов будет отображено в квантованном тензоре?"
      ]
    },
    {
      "cell_type": "markdown",
      "metadata": {
        "id": "gK8v80tnKZHa"
      },
      "source": [
        "**Your Answer:**"
      ]
    },
    {
      "cell_type": "markdown",
      "metadata": {
        "id": "Aa7KVrLrSlNb"
      },
      "source": [
        "## Квантование методом K-средних на всей модели\n",
        "\n",
        "Подобно тому, что мы делали в лабораторной работе 1, теперь мы обернули функцию квантования методом k-средних в класс для квантования всей модели. В классе `KMeansQuantizer` мы должны логировать \"кодовые книги\" (т. е. `centroids` и ​​`labels`), чтобы иметь возможность применять или обновлять кодовые книги всякий раз, когда меняются веса модели."
      ]
    },
    {
      "cell_type": "code",
      "execution_count": null,
      "metadata": {
        "id": "eaMAP465Te-p"
      },
      "outputs": [],
      "source": [
        "from torch.nn import parameter\n",
        "class KMeansQuantizer:\n",
        "    def __init__(self, model : nn.Module, bitwidth=4):\n",
        "        self.codebook = KMeansQuantizer.quantize(model, bitwidth)\n",
        "\n",
        "    @torch.no_grad()\n",
        "    def apply(self, model, update_centroids):\n",
        "        for name, param in model.named_parameters():\n",
        "            if name in self.codebook:\n",
        "                if update_centroids:\n",
        "                    update_codebook(param, codebook=self.codebook[name])\n",
        "                self.codebook[name] = k_means_quantize(\n",
        "                    param, codebook=self.codebook[name])\n",
        "\n",
        "    @staticmethod\n",
        "    @torch.no_grad()\n",
        "    def quantize(model: nn.Module, bitwidth=4):\n",
        "        codebook = dict()\n",
        "        if isinstance(bitwidth, dict):\n",
        "            for name, param in model.named_parameters():\n",
        "                if name in bitwidth:\n",
        "                    codebook[name] = k_means_quantize(param, bitwidth=bitwidth[name])\n",
        "        else:\n",
        "            for name, param in model.named_parameters():\n",
        "                if param.dim() > 1:\n",
        "                    codebook[name] = k_means_quantize(param, bitwidth=bitwidth)\n",
        "        return codebook"
      ]
    },
    {
      "cell_type": "markdown",
      "metadata": {
        "id": "od8iy9KjVhlT"
      },
      "source": [
        "Теперь давайте квантуем модель на 8 бит, 4 бита и 2 бита, используя квантование K-средних. *Обратите внимание, что мы игнорируем хранилище для кодовых книг при расчете размера модели.*"
      ]
    },
    {
      "cell_type": "code",
      "execution_count": null,
      "metadata": {
        "id": "CCI9sCUmVre-"
      },
      "outputs": [],
      "source": [
        "print('Игнорируем хранилище для кодовых книг при расчете размера модели.')\n",
        "quantizers = dict()\n",
        "for bitwidth in [8, 4, 2]:\n",
        "    recover_model()\n",
        "    print(f'k-means квантованная модель into {bitwidth} bits')\n",
        "    quantizer = KMeansQuantizer(model, bitwidth)\n",
        "    quantized_model_size = get_model_size(model, bitwidth)\n",
        "    print(f\"    {bitwidth}-bit k-means квантованная модель, размер={quantized_model_size/MiB:.2f} MiB\")\n",
        "    quantized_model_accuracy = evaluate(model, dataloader['test'])\n",
        "    print(f\"    {bitwidth}-bit k-means квантованная модель, точность={quantized_model_accuracy:.2f}%\")\n",
        "    quantizers[bitwidth] = quantizer"
      ]
    },
    {
      "cell_type": "markdown",
      "metadata": {
        "id": "4jj3FnIIWVq0"
      },
      "source": [
        "## Обученное квантование K-средних\n",
        "\n",
        "Как мы видим из результатов последней ячейки, точность значительно падает при квантовании модели в более низкую разрадность. Соответственно, необходимо выполнить обучение с учетом квантования, чтобы восстановить точность.\n",
        "\n",
        "Во время обучения с учетом квантования k-средних центроиды также обновляются, как приводится в работе в [Deep Compression: Compressing Deep Neural Networks With Pruning, Trained Quantization\n",
        "And Huffman Coding](https://arxiv.org/pdf/1510.00149.pdf).\n",
        "\n",
        "Градиент для центроидов рассчитывается как,\n",
        "\n",
        "> $\\frac{\\partial \\mathcal{L} }{\\partial C_k} = \\sum_{j} \\frac{\\partial \\mathcal{L} }{\\partial W_{j}} \\frac{\\partial W_{j} }{\\partial C_k} = \\sum_{j} \\frac{\\partial \\mathcal{L} }{\\partial W_{j}} \\mathbf{1}(I_{j}=k)$\n",
        "\n",
        "где $\\mathcal{L}$ — это потери, $C_k$ — это *k*-й центроид, $I_{j}$ — это метка для веса $W_{j}$. $\\mathbf{1}()$ — это индикаторная функция, а $\\mathbf{1}(I_{j}=k)$ означает $1\\;\\mathrm{if}\\;I_{j}=k\\;\\mathrm{else}\\;0$, *т.е.*, $I_{j}==k$.\n",
        "\n",
        "В данной работе для упрощения, мы напрямую обновляем центроиды в соответствии с последними весами:\n",
        "\n",
        "> $C_k = \\frac{\\sum_{j}W_{j}\\mathbf{1}(I_{j}=k)}{\\sum_{j}\\mathbf{1}(I_{j}=k)}$"
      ]
    },
    {
      "cell_type": "markdown",
      "metadata": {
        "id": "Q_hfG16fLVda"
      },
      "source": [
        "### Задание 3\n",
        "\n",
        "Дополните следующую функцию обновления кодовой книги.\n",
        "\n",
        "**Подсказка**:\n",
        "\n",
        "Приведенное выше уравнение для обновления центроидов использует среднее/`mean` по весам в том же кластере в качестве обновленного значения центроида."
      ]
    },
    {
      "cell_type": "code",
      "execution_count": null,
      "metadata": {
        "id": "t8_FfiUf_1ZM"
      },
      "outputs": [],
      "source": [
        "def update_codebook(fp32_tensor: torch.Tensor, codebook: Codebook):\n",
        "    \"\"\"\n",
        "    обновление центроидов кодбука используя fp32_tensor\n",
        "    :param fp32_tensor: [torch.(cuda.)Tensor]\n",
        "    :param codebook: [Codebook] (the cluster centroids, the cluster label tensor)\n",
        "    \"\"\"\n",
        "    n_clusters = codebook.centroids.numel()\n",
        "    fp32_tensor = fp32_tensor.view(-1)\n",
        "    for k in range(n_clusters):\n",
        "    ############### YOUR CODE STARTS HERE ###############\n",
        "        codebook.centroids[k] = 0\n",
        "    ############### YOUR CODE ENDS HERE #################"
      ]
    },
    {
      "cell_type": "markdown",
      "metadata": {
        "id": "Ho4RDW0ccw4f"
      },
      "source": [
        "Запустим следующую ячейку кода для тонкой настройки квантованной модели, чтобы восстановить точность. Мы остановим остановим процесс, если падение точности будет меньше 0.5."
      ]
    },
    {
      "cell_type": "code",
      "execution_count": null,
      "metadata": {
        "id": "DR1Fu6Arfgnk"
      },
      "outputs": [],
      "source": [
        "accuracy_drop_threshold = 0.5\n",
        "quantizers_before_finetune = copy.deepcopy(quantizers)\n",
        "quantizers_after_finetune = quantizers\n",
        "\n",
        "for bitwidth in [8, 4, 2]:\n",
        "    recover_model()\n",
        "    quantizer = quantizers[bitwidth]\n",
        "    print(f'k-means квантовання модель into {bitwidth} bits')\n",
        "    quantizer.apply(model, update_centroids=False)\n",
        "    quantized_model_size = get_model_size(model, bitwidth)\n",
        "    print(f\"    {bitwidth}-bit k-means квантованная модель, размер ={quantized_model_size/MiB:.2f} MiB\")\n",
        "    quantized_model_accuracy = evaluate(model, dataloader['test'])\n",
        "    print(f\"    {bitwidth}-bit k-means квантованная модель, точность ={quantized_model_accuracy:.2f}% перед обучением с учетов квантования \")\n",
        "    accuracy_drop = fp32_model_accuracy - quantized_model_accuracy\n",
        "    if accuracy_drop > accuracy_drop_threshold:\n",
        "        print(f\"        Обучение с учетом квантования, снижение точности={accuracy_drop:.2f}% больше чем порог={accuracy_drop_threshold:.2f}%\")\n",
        "        num_finetune_epochs = 5\n",
        "        optimizer = torch.optim.SGD(model.parameters(), lr=0.01, momentum=0.9)\n",
        "        scheduler = torch.optim.lr_scheduler.CosineAnnealingLR(optimizer, num_finetune_epochs)\n",
        "        criterion = nn.CrossEntropyLoss()\n",
        "        best_accuracy = 0\n",
        "        epoch = num_finetune_epochs\n",
        "        while accuracy_drop > accuracy_drop_threshold and epoch > 0:\n",
        "            train(model, dataloader['train'], criterion, optimizer, scheduler,\n",
        "                  callbacks=[lambda: quantizer.apply(model, update_centroids=True)])\n",
        "            model_accuracy = evaluate(model, dataloader['test'])\n",
        "            is_best = model_accuracy > best_accuracy\n",
        "            best_accuracy = max(model_accuracy, best_accuracy)\n",
        "            print(f'        Epoch {num_finetune_epochs-epoch} Accuracy {model_accuracy:.2f}% / Best Accuracy: {best_accuracy:.2f}%')\n",
        "            accuracy_drop = fp32_model_accuracy - best_accuracy\n",
        "            epoch -= 1\n",
        "    else:\n",
        "        print(f\"        Нет необходимости в обучении с учетом квантования, снижение точности ={accuracy_drop:.2f}% меньше порога={accuracy_drop_threshold:.2f}%\")"
      ]
    },
    {
      "cell_type": "markdown",
      "metadata": {
        "id": "USisw8QcnPNP"
      },
      "source": [
        "# Линейное квантование"
      ]
    },
    {
      "cell_type": "markdown",
      "metadata": {
        "id": "KYtNWx2dIOsG"
      },
      "source": [
        "![image-100.png](data:image/png;base64,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)"
      ]
    },
    {
      "cell_type": "markdown",
      "metadata": {
        "id": "sEzwgl9mZ6F2"
      },
      "source": [
        "В этом разделе реализуем линейное квантование.\n",
        "\n",
        "Линейное квантование напрямую округляет значение с плавающей точкой до ближайшего квантованного целого числа после усечения диапазона и масштабирования.\n",
        "\n",
        "[Линейное квантование](https://arxiv.org/pdf/1712.05877.pdf) можно представить как\n",
        "\n",
        "$r = S(q-Z)$\n",
        "\n",
        "где $r$ — вещественное число с плавающей точкой, $q$ — *n*-битное целое число, $Z$ — *n*-битное целое число, а $S$ — вещественное число с плавающей точкой. $Z$ — нулевая точка квантования, а $S$ — масштабный коэффициент квантования. Обе константы — $Z$ и $S$ — являются параметрами квантования."
      ]
    },
    {
      "cell_type": "markdown",
      "metadata": {
        "id": "1US-mgiCIUQu"
      },
      "source": [
        "![image-102.png](data:image/png;base64,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)"
      ]
    },
    {
      "cell_type": "markdown",
      "metadata": {
        "id": "c6vO1_VBdTzs"
      },
      "source": [
        "## *n*-битное целое число\n",
        "\n",
        "*n*-битное целое число со знаком обычно представляется в [дополнительном коде](https://en.wikipedia.org/wiki/Two%27s_complement).\n",
        "\n",
        "*n*-битное целое число со знаком может кодировать целые числа в диапазоне $[-2^{n-1}, 2^{n-1}-1]$. Например, 8-битное целое число попадает в диапазон [-128, 127]."
      ]
    },
    {
      "cell_type": "code",
      "execution_count": null,
      "metadata": {
        "id": "uz51HcD8dTIb"
      },
      "outputs": [],
      "source": [
        "def get_quantized_range(bitwidth):\n",
        "    quantized_max = (1 << (bitwidth - 1)) - 1\n",
        "    quantized_min = -(1 << (bitwidth - 1))\n",
        "    return quantized_min, quantized_max"
      ]
    },
    {
      "cell_type": "markdown",
      "metadata": {
        "id": "FSRwyEWrnA7o"
      },
      "source": [
        "## Задание 4\n",
        "\n",
        "дополните следующую функцию линейного квантования.\n",
        "\n",
        "**Подсказка**:\n",
        "* Из $r=S(q-Z)$ имеем $q = r/S + Z$.\n",
        "* Оба $r$ и $S$ являются числами с плавающей точкой, и поэтому мы не можем напрямую прибавить целое число $Z$ к $r/S$. Следовательно, $q = \\mathrm{int}(\\mathrm{round}(r/S)) + Z$.\n",
        "* Чтобы преобразовать [`torch.FloatTensor`](https://pytorch.org/docs/stable/tensors.html) в [`torch.IntTensor`](https://pytorch.org/docs/stable/tensors.html), можно использовать [`torch.round()`](https://pytorch.org/docs/stable/generated/torch.round.html#torch.round), [`torch.Tensor.round()`](https://pytorch.org/docs/stable/generated/torch.Tensor.round.html#torch.Tensor.round), [`torch.Tensor.round_()`](https://pytorch.org/docs/stable/generated/torch.Tensor.round_) для первого преобразования всех значений в плавающее целое число, а затем использовать [`torch.Tensor.to(torch.int8)`](https://pytorch.org/docs/stable/generated/torch.Tensor.to.html#torch.Tensor.to) для преобразования типа данных из [`torch.float`](https://pytorch.org/docs/stable/tensors.html) в [`torch.int8`](https://pytorch.org/docs/stable/tensors.html).\n"
      ]
    },
    {
      "cell_type": "code",
      "execution_count": null,
      "metadata": {
        "id": "1vg4SfIJYFUq"
      },
      "outputs": [],
      "source": [
        "def linear_quantize(fp_tensor, bitwidth, scale, zero_point, dtype=torch.int8) -> torch.Tensor:\n",
        "    \"\"\"\n",
        "    линейное квантование для fp_tensor\n",
        "\n",
        "        fp_tensor = (quantized_tensor - zero_point) * scale\n",
        "      где,\n",
        "        quantized_tensor = int(round(fp_tensor / scale)) + zero_point\n",
        "    :param tensor: [torch.(cuda.)FloatTensor] тензор с плавающей точной который необходимо квантовать\n",
        "    :param bitwidth: [int] разрядность квантования\n",
        "    :param scale: [torch.(cuda.)FloatTensor] коэфф. масштабирования\n",
        "    :param zero_point: [torch.(cuda.)IntTensor] целевой центроид значений тензора\n",
        "    :return:\n",
        "        [torch.(cuda.)FloatTensor] квантованный тензор, значения которого - целые числа\n",
        "    \"\"\"\n",
        "    assert(fp_tensor.dtype == torch.float)\n",
        "    assert(isinstance(scale, float) or\n",
        "           (scale.dtype == torch.float and scale.dim() == fp_tensor.dim()))\n",
        "    assert(isinstance(zero_point, int) or\n",
        "           (zero_point.dtype == dtype and zero_point.dim() == fp_tensor.dim()))\n",
        "\n",
        "    ############### YOUR CODE STARTS HERE ###############\n",
        "    # Step 1: масштабируем fp_tensor\n",
        "\n",
        "    scaled_tensor = 0\n",
        "\n",
        "    # Step 2: округляем значение до целочисленного\n",
        "\n",
        "    rounded_tensor = 0\n",
        "\n",
        "    ############### YOUR CODE ENDS HERE #################\n",
        "\n",
        "    rounded_tensor = rounded_tensor.to(dtype)\n",
        "\n",
        "    ############### YOUR CODE STARTS HERE ###############\n",
        "    # Step 3: смещаем rounded_tensor чтобы zero_point была 0\n",
        "\n",
        "    shifted_tensor = 0\n",
        "\n",
        "    ############### YOUR CODE ENDS HERE #################\n",
        "\n",
        "    # Step 4: фиксируем shifted_tensor  чтобы он лежал в диапазоне битовой ширины\n",
        "    quantized_min, quantized_max = get_quantized_range(bitwidth)\n",
        "    quantized_tensor = shifted_tensor.clamp_(quantized_min, quantized_max)\n",
        "    return quantized_tensor"
      ]
    },
    {
      "cell_type": "markdown",
      "metadata": {
        "id": "Qn-OU5z9IAtr"
      },
      "source": [
        "проверим функциональность определенного линейного квантования, применив указанную выше функцию к фиктивному тензору."
      ]
    },
    {
      "cell_type": "code",
      "execution_count": null,
      "metadata": {
        "id": "10sN7WRNAWCc"
      },
      "outputs": [],
      "source": [
        "test_linear_quantize()"
      ]
    },
    {
      "cell_type": "markdown",
      "metadata": {
        "id": "y9WBvG1jnhEz"
      },
      "source": [
        "## Задание 5\n",
        "\n",
        "Теперь нам нужно определить коэффициент масштабирования $S$ и нулевую точку $Z$ для линейного квантования.\n",
        "\n",
        "Напомним, что [линейное квантование](https://arxiv.org/pdf/1712.05877.pdf) можно представить как\n",
        "\n",
        "$r = S(q-Z)$"
      ]
    },
    {
      "cell_type": "markdown",
      "metadata": {
        "id": "lLgyax_fgrS1"
      },
      "source": [
        "### Масштаб\n",
        "\n",
        "Линейное квантование проецирует диапазон с плавающей точкой [*fp_min*, *fp_max*] на квантованный диапазон [*quantized_min*, *quantized_max*]. То есть,\n",
        "\n",
        "> $r_{\\mathrm{max}} = S(q_{\\mathrm{max}}-Z)$\n",
        ">\n",
        "> $r_{\\mathrm{min}} = S(q_{\\mathrm{min}}-Z)$\n",
        "\n",
        "Вычитая эти два уравнения, получаем,"
      ]
    },
    {
      "cell_type": "markdown",
      "metadata": {
        "id": "PkSalSPzSwN2"
      },
      "source": [
        "#### Задание 5.1\n",
        "\n",
        "Выберите правильный ответ и удалите неправильные ответы в следующей текстовой ячейке."
      ]
    },
    {
      "cell_type": "markdown",
      "metadata": {
        "id": "dctWTxHaTnUy"
      },
      "source": [
        "> $S=r_{\\mathrm{max}} / q_{\\mathrm{max}}$\n",
        "\n",
        "> $S=(r_{\\mathrm{max}} + r_{\\mathrm{min}}) / (q_{\\mathrm{max}} + q_{\\mathrm{min}})$\n",
        "\n",
        "> $S=(r_{\\mathrm{max}} - r_{\\mathrm{min}}) / (q_{\\mathrm{max}} - q_{\\mathrm{min}})$\n",
        "\n",
        "> $S=r_{\\mathrm{max}} / q_{\\mathrm{max}} - r_{\\mathrm{min}} / q_{\\mathrm{min}}$"
      ]
    },
    {
      "cell_type": "markdown",
      "metadata": {
        "id": "WWfff4eISuES"
      },
      "source": [
        "Существуют различные подходы к определению $r_{\\mathrm{min}}$ и $r_{\\mathrm{max}}$ тензора с плавающей точкой `fp_tensor`.\n",
        "\n",
        "* Наиболее распространенный метод — непосредственное использование минимального и максимального значения `fp_tensor`.\n",
        "* Альтернативный метод — минимизация расстояния Кульбака-Лейблера для определения *fp_max*.\n"
      ]
    },
    {
      "cell_type": "markdown",
      "metadata": {
        "id": "SSb42B8Gjlpa"
      },
      "source": [
        "### Нулевая точка\n",
        "\n",
        "После того, как мы определим коэффициент масштабирования $S$, мы можем напрямую использовать соотношение между $r_{\\mathrm{min}}$ и $q_{\\mathrm{min}}$ для вычисления нулевой точки $Z$."
      ]
    },
    {
      "cell_type": "markdown",
      "metadata": {
        "id": "u13Wmw_8TdDA"
      },
      "source": [
        "#### Задание 5.2\n",
        "\n",
        "Выберите правильный ответ и удалите неправильные ответы в следующей текстовой ячейке."
      ]
    },
    {
      "cell_type": "markdown",
      "metadata": {
        "id": "uD3Q_FfSTwIL"
      },
      "source": [
        "> $Z = \\mathrm{int}(\\mathrm{round}(r_{\\mathrm{min}} / S - q_{\\mathrm{min}})$\n",
        "\n",
        "> $Z = \\mathrm{int}(\\mathrm{round}(q_{\\mathrm{min}} - r_{\\mathrm{min}} / S))$\n",
        "\n",
        "> $Z = q_{\\mathrm{min}} - r_{\\mathrm{min}} / S$\n",
        "\n",
        "> $Z = r_{\\mathrm{min}} / S - q_{\\mathrm{min}}$"
      ]
    },
    {
      "cell_type": "markdown",
      "metadata": {
        "id": "tk4aPTKdAikt"
      },
      "source": [
        "### Задание 5.3\n",
        "\n",
        "Дополните следующую функцию для вычисления масштаба $S$ и нулевой точки $Z$ из тензора с плавающей точкой $r$."
      ]
    },
    {
      "cell_type": "code",
      "execution_count": null,
      "metadata": {
        "id": "LfAjS4KhfwDY"
      },
      "outputs": [],
      "source": [
        "def get_quantization_scale_and_zero_point(fp_tensor, bitwidth):\n",
        "    \"\"\"\n",
        "    получаем шкалу квантования для одного тензора\n",
        "    :param fp_tensor: [torch.(cuda.)Tensor] float тензор, подлежащий квантованию\n",
        "    :param bitwidth: [int] битовая ширина квантования\n",
        "    :return:\n",
        "        [float] scale\n",
        "        [int] zero_point\n",
        "    \"\"\"\n",
        "    quantized_min, quantized_max = get_quantized_range(bitwidth)\n",
        "    fp_max = fp_tensor.max().item()\n",
        "    fp_min = fp_tensor.min().item()\n",
        "\n",
        "    ############### YOUR CODE STARTS HERE ###############\n",
        "\n",
        "    scale =  0\n",
        "    zero_point = 0\n",
        "\n",
        "    ############### YOUR CODE ENDS HERE #################\n",
        "\n",
        "    # закрепим нулевую точку, чтобы она попадала в диапазон [quantized_min, quantized_max]\n",
        "    if zero_point < quantized_min:\n",
        "        zero_point = quantized_min\n",
        "    elif zero_point > quantized_max:\n",
        "        zero_point = quantized_max\n",
        "    else: # преобразуем из float в int с помощью round()\n",
        "        zero_point = round(zero_point)\n",
        "    return scale, int(zero_point)"
      ]
    },
    {
      "cell_type": "markdown",
      "metadata": {
        "id": "OW1AOZboSK0e"
      },
      "source": [
        "Теперь обернем `linear_quantize()` из задания 4 и `get_quantization_scale_and_zero_point()` из задания 5 в одну функцию."
      ]
    },
    {
      "cell_type": "code",
      "execution_count": null,
      "metadata": {
        "id": "FWeOwwXgoPLc"
      },
      "outputs": [],
      "source": [
        "def linear_quantize_feature(fp_tensor, bitwidth):\n",
        "    \"\"\"\n",
        "    линейное квантование для тензора признаков\n",
        "    :param fp_tensor: [torch.(cuda.)Tensor] floating feature подлежащие квантованию\n",
        "    :param bitwidth: [int] разрядность квантования\n",
        "    :return:\n",
        "        [torch.(cuda.)Tensor] квантованный тензор\n",
        "        [float] scale tensor\n",
        "        [int] нулевая точка zero point\n",
        "    \"\"\"\n",
        "    scale, zero_point = get_quantization_scale_and_zero_point(fp_tensor, bitwidth)\n",
        "    quantized_tensor = linear_quantize(fp_tensor, bitwidth, scale, zero_point)\n",
        "    return quantized_tensor, scale, zero_point"
      ]
    },
    {
      "cell_type": "markdown",
      "metadata": {
        "id": "a0YWp1YtfY-a"
      },
      "source": [
        "## Особый случай: линейное квантование по тензору веса\n",
        "\n",
        "Посмотрим на распределение значений веса."
      ]
    },
    {
      "cell_type": "code",
      "execution_count": null,
      "metadata": {
        "id": "-HdIc5kKk89j"
      },
      "outputs": [],
      "source": [
        "def plot_weight_distribution(model, bitwidth=32):\n",
        "    # bins = (1 << bitwidth) if bitwidth <= 8 else 256\n",
        "    if bitwidth <= 8:\n",
        "        qmin, qmax = get_quantized_range(bitwidth)\n",
        "        bins = np.arange(qmin, qmax + 2)\n",
        "        align = 'left'\n",
        "    else:\n",
        "        bins = 256\n",
        "        align = 'mid'\n",
        "    fig, axes = plt.subplots(3,3, figsize=(10, 6))\n",
        "    axes = axes.ravel()\n",
        "    plot_index = 0\n",
        "    for name, param in model.named_parameters():\n",
        "        if param.dim() > 1:\n",
        "            ax = axes[plot_index]\n",
        "            ax.hist(param.detach().view(-1).cpu(), bins=bins, density=True,\n",
        "                    align=align, color = 'blue', alpha = 0.5,\n",
        "                    edgecolor='black' if bitwidth <= 4 else None)\n",
        "            if bitwidth <= 4:\n",
        "                quantized_min, quantized_max = get_quantized_range(bitwidth)\n",
        "                ax.set_xticks(np.arange(start=quantized_min, stop=quantized_max+1))\n",
        "            ax.set_xlabel(name)\n",
        "            ax.set_ylabel('density')\n",
        "            plot_index += 1\n",
        "    fig.suptitle(f'Histogram of Weights (bitwidth={bitwidth} bits)')\n",
        "    fig.tight_layout()\n",
        "    fig.subplots_adjust(top=0.925)\n",
        "    plt.show()\n",
        "\n",
        "recover_model()\n",
        "plot_weight_distribution(model)"
      ]
    },
    {
      "cell_type": "markdown",
      "metadata": {
        "id": "WpAmSr7IlDn9"
      },
      "source": [
        "Как видно из гистограмм выше, распределение значений веса почти симметрично относительно 0 (за исключением классификатора в этом случае). Поэтому мы обычно делаем нулевую точку $Z=0$ при квантовании весов.\n",
        "\n",
        "Из $r = S(q-Z)$ имеем\n",
        "\n",
        "> $r_{\\mathrm{max}} = S \\cdot q_{\\mathrm{max}}$\n",
        "\n",
        "и затем\n",
        "\n",
        "> $S = r_{\\mathrm{max}} / q_{\\mathrm{max}}$\n",
        "\n",
        "Мы напрямую используем максимальную величину значений веса как $r_{\\mathrm{max}}$."
      ]
    },
    {
      "cell_type": "code",
      "execution_count": null,
      "metadata": {
        "id": "v3d-Y-G9enEA"
      },
      "outputs": [],
      "source": [
        "def get_quantization_scale_for_weight(weight, bitwidth):\n",
        "    \"\"\"\n",
        "    получаем шкалу квантования для одного тензора веса\n",
        "    :param weight: [torch.(cuda.)Tensor] floating вес, подлежащий квантованию\n",
        "    :param bitwidth: [integer] разряность квантования\n",
        "    :return:\n",
        "        [floating scalar] масштаб\n",
        "    \"\"\"\n",
        "    # полагаем что значения весов симметричны\n",
        "    # также устанавливаем zero_point в 0 для весов\n",
        "    fp_max = max(weight.abs().max().item(), 5e-7)\n",
        "    _, quantized_max = get_quantized_range(bitwidth)\n",
        "    return fp_max / quantized_max"
      ]
    },
    {
      "cell_type": "markdown",
      "metadata": {
        "id": "X71SQhfDnwS7"
      },
      "source": [
        "### Линейное квантование по каналам\n",
        "\n",
        "Напомним, что для 2D-свертки тензор веса представляет собой 4-мерный тензор в форме (num_output_channels, num_input_channels, kernel_height, kernel_width).\n",
        "\n",
        "Экспериментально можно показать, что использование различных коэффициентов масштабирования $S$ и нулевых точек $Z$ для различных выходных каналов даст лучшие результаты. Поэтому  необходимо определить коэффициент $S$ и нулевую точку $Z$ для субтензора каждого выходного канала независимо.\n"
      ]
    },
    {
      "cell_type": "code",
      "execution_count": null,
      "metadata": {
        "id": "tFkA5JlgoiLs"
      },
      "outputs": [],
      "source": [
        "def linear_quantize_weight_per_channel(tensor, bitwidth):\n",
        "    \"\"\"\n",
        "    линейное квантование для тензора веса\n",
        "    использование разных масштабов и нулевых точек для разных выходных каналов\n",
        "    :param tensor: [torch.(cuda.)Tensor] вес, подлежащий квантованию\n",
        "    :param bitwidth: [int] разряность квантования\n",
        "    :return:\n",
        "        [torch.(cuda.)Tensor] квантованный тензор\n",
        "        [torch.(cuda.)Tensor] тензор коэфф. масштабирования\n",
        "        [int] нулевая точка (всегда 0)\n",
        "    \"\"\"\n",
        "    dim_output_channels = 0\n",
        "    num_output_channels = tensor.shape[dim_output_channels]\n",
        "    scale = torch.zeros(num_output_channels, device=tensor.device)\n",
        "    for oc in range(num_output_channels):\n",
        "        _subtensor = tensor.select(dim_output_channels, oc)\n",
        "        _scale = get_quantization_scale_for_weight(_subtensor, bitwidth)\n",
        "        scale[oc] = _scale\n",
        "    scale_shape = [1] * tensor.dim()\n",
        "    scale_shape[dim_output_channels] = -1\n",
        "    scale = scale.view(scale_shape)\n",
        "    quantized_tensor = linear_quantize(tensor, bitwidth, scale, zero_point=0)\n",
        "    return quantized_tensor, scale, 0"
      ]
    },
    {
      "cell_type": "markdown",
      "metadata": {
        "id": "bqKnjcUJpq2R"
      },
      "source": [
        "### Быстрый взгляд на линейное квантование весов\n",
        "\n",
        "Посмотрим на распределение весов и размер модели при применении линейного квантования весов с различной битовой разрядностью."
      ]
    },
    {
      "cell_type": "code",
      "execution_count": null,
      "metadata": {
        "id": "6PzZe2DGvWap"
      },
      "outputs": [],
      "source": [
        "@torch.no_grad()\n",
        "def peek_linear_quantization():\n",
        "    for bitwidth in [4, 2]:\n",
        "        for name, param in model.named_parameters():\n",
        "            if param.dim() > 1:\n",
        "                quantized_param, scale, zero_point = \\\n",
        "                    linear_quantize_weight_per_channel(param, bitwidth)\n",
        "                param.copy_(quantized_param)\n",
        "        plot_weight_distribution(model, bitwidth)\n",
        "        recover_model()\n",
        "\n",
        "peek_linear_quantization()"
      ]
    },
    {
      "cell_type": "markdown",
      "metadata": {
        "id": "5Dw14QcxxItm"
      },
      "source": [
        "## Инференс после квантования"
      ]
    },
    {
      "cell_type": "markdown",
      "metadata": {
        "id": "zsHy-Bx-UfpL"
      },
      "source": [
        "После квантования также изменяется инференс сверточных и полносвязных слоев.\n",
        "Вспомним, что $r = S(q-Z)$, и мы имеем\n",
        "\n",
        "> $r_{\\mathrm{input}} = S_{\\mathrm{input}}(q_{\\mathrm{input}}-Z_{\\mathrm{input}})$\n",
        ">\n",
        "> $r_{\\mathrm{weight}} = S_{\\mathrm{weight}}(q_{\\mathrm{weight}}-Z_{\\mathrm{weight}})$\n",
        ">\n",
        "> $r_{\\mathrm{bias}} = S_{\\mathrm{bias}}(q_{\\mathrm{bias}}-Z_{\\mathrm{bias}})$\n",
        "\n",
        "Поскольку $Z_{\\mathrm{weight}}=0$, $r_{\\mathrm{weight}} = S_{\\mathrm{weight}}q_{\\mathrm{weight}}$.\n",
        "\n",
        "Свертку с плавающей точкой можно записать как:\n",
        "\n",
        "> $r_{\\mathrm{output}} = \\mathrm{CONV}[r_{\\mathrm{input}}, r_{\\mathrm{weight}}] + r_{\\mathrm{bias}}\\\\\n",
        "\\;\\;\\;\\;\\;\\;\\;\\;= \\mathrm{CONV}[S_{\\mathrm{input}}(q_{\\mathrm{input}}-Z_{\\mathrm{input}}), S_{\\mathrm{weight}}q_{\\mathrm{weight}}] + S_{\\mathrm{bias}}(q_{\\mathrm{bias}}-Z_{\\mathrm{bias}})\\\\\n",
        "\\;\\;\\;\\;\\;\\;\\;\\;= \\mathrm{CONV}[q_{\\mathrm{input}}-Z_{\\mathrm{input}}, q_{\\mathrm{weight}}]\\cdot (S_{\\mathrm{input}} \\cdot S_{\\mathrm{weight}}) + S_{\\mathrm{bias}}(q_{\\mathrm{bias}}-Z_{\\mathrm{bias}})$\n",
        "\n",
        "Чтобы еще больше упростить вычисления, мы могли бы позволить\n",
        "\n",
        "> $Z_{\\mathrm{bias}} = 0$\n",
        ">\n",
        "> $S_{\\mathrm{bias}} = S_{\\mathrm{input}} \\cdot S_{\\mathrm{weight}}$\n",
        "\n",
        "так что\n",
        "\n",
        "> $r_{\\mathrm{output}} = (\\mathrm{CONV}[q_{\\mathrm{input}}-Z_{\\mathrm{input}}, q_{\\mathrm{weight}}] + q_{\\mathrm{bias}})\\cdot (S_{\\mathrm{input}} \\cdot S_{\\mathrm{weight}})$\n",
        "> $\\;\\;\\;\\;\\;\\;\\;\\;\\;= (\\mathrm{CONV}[q_{\\mathrm{input}}, q_{\\mathrm{weight}}] - \\mathrm{CONV}[Z_{\\mathrm{input}}, q_{\\mathrm{weight}}] + q_{\\mathrm{bias}})\\cdot (S_{\\mathrm{input}}S_{\\mathrm{weight}})$\n",
        "\n",
        "Поскольку\n",
        "> $r_{\\mathrm{output}} = S_{\\mathrm{output}}(q_{\\mathrm{output}}-Z_{\\mathrm{output}})$\n",
        "\n",
        "мы имеем\n",
        "> $S_{\\mathrm{output}}(q_{\\mathrm{output}}-Z_{\\mathrm{output}}) = (\\mathrm{CONV}[q_{\\mathrm{input}}, q_{\\mathrm{weight}}] - \\mathrm{CONV}[Z_{\\mathrm{input}}, q_{\\mathrm{weight}}] + q_{\\mathrm{bias}})\\cdot (S_{\\mathrm{input}} S_{\\mathrm{weight}})$\n",
        "\n",
        "и таким образом\n",
        "> $q_{\\mathrm{output}} = (\\mathrm{CONV}[q_{\\mathrm{input}}, q_{\\mathrm{weight}}] - \\mathrm{CONV}[Z_{\\mathrm{input}}, q_{\\mathrm{weight}}] + q_{\\mathrm{bias}})\\cdot (S_{\\mathrm{input}}S_{\\mathrm{weight}} / S_{\\mathrm{output}}) + Z_{\\mathrm{output}}$\n",
        "\n",
        "Поскольку $Z_{\\mathrm{input}}$, $q_{\\mathrm{weight}}$, $q_{\\mathrm{bias}}$ определены до инференса, пусть\n",
        "\n",
        "> $Q_{\\mathrm{bias}} = q_{\\mathrm{bias}} - \\mathrm{CONV}[Z_{\\mathrm{input}}, q_{\\mathrm{weight}}]$\n",
        "\n",
        "мы имеем\n",
        "\n",
        "> $q_{\\mathrm{output}} = (\\mathrm{CONV}[q_{\\mathrm{input}}, q_{\\mathrm{weight}}] + Q_{\\mathrm{bias}}) \\cdot (S_{\\mathrm{input}}S_{\\mathrm{weight}} / S_{\\mathrm{output}}) + Z_{\\mathrm{output}}$\n",
        "\n",
        "Аналогично, для полносвязного слоя имеем\n",
        "\n",
        "> $q_{\\mathrm{output}} = (\\mathrm{Linear}[q_{\\mathrm{input}}, q_{\\mathrm{weight}}] + Q_{\\mathrm{bias}})\\cdot (S_{\\mathrm{input}} \\cdot S_{\\mathrm{weight}} / S_{\\mathrm{output}}) + Z_{\\mathrm{output}}$\n",
        "\n",
        "где\n",
        "\n",
        "> $Q_{\\mathrm{bias}} = q_{\\mathrm{bias}} - \\mathrm{Linear}[Z_{\\mathrm{input}}, q_{\\mathrm{вес}}]$"
      ]
    },
    {
      "cell_type": "markdown",
      "metadata": {
        "id": "XlH0zg7M2J_L"
      },
      "source": [
        "### Задание 6\n",
        "\n",
        "Дополните следующую функцию для линейного квантования смещения(bias).\n",
        "\n",
        "**Подсказка**:\n",
        "\n",
        "Из приведенного выше знаем, что\n",
        "\n",
        "> $Z_{\\mathrm{bias}} = 0$\n",
        ">\n",
        "> $S_{\\mathrm{bias}} = S_{\\mathrm{input}} \\cdot S_{\\mathrm{weight}}$\n",
        "\n"
      ]
    },
    {
      "cell_type": "code",
      "execution_count": null,
      "metadata": {
        "id": "0JZiyAms2G1J"
      },
      "outputs": [],
      "source": [
        "def linear_quantize_bias_per_output_channel(bias, weight_scale, input_scale):\n",
        "    \"\"\"\n",
        "    линейное квантование для тензора смещения\n",
        "        quantized_bias = fp_bias / bias_scale\n",
        "    :param bias: [torch.FloatTensor] вес смещения, подлежащий квантованию\n",
        "    :param weight_scale: [float or torch.FloatTensor] тензор весовой шкалы\n",
        "    :param input_scale: [float] input scale\n",
        "    :return:\n",
        "        [torch.IntTensor] квантованный тензор смещения\n",
        "    \"\"\"\n",
        "    assert(bias.dim() == 1)\n",
        "    assert(bias.dtype == torch.float)\n",
        "    assert(isinstance(input_scale, float))\n",
        "    if isinstance(weight_scale, torch.Tensor):\n",
        "        assert(weight_scale.dtype == torch.float)\n",
        "        weight_scale = weight_scale.view(-1)\n",
        "        assert(bias.numel() == weight_scale.numel())\n",
        "\n",
        "    ############### YOUR CODE STARTS HERE ###############\n",
        "\n",
        "    bias_scale = 0\n",
        "\n",
        "    ############### YOUR CODE ENDS HERE #################\n",
        "\n",
        "    quantized_bias = linear_quantize(bias, 32, bias_scale,\n",
        "                                     zero_point=0, dtype=torch.int32)\n",
        "    return quantized_bias, bias_scale, 0"
      ]
    },
    {
      "cell_type": "markdown",
      "metadata": {
        "id": "mMM7uYX25rFM"
      },
      "source": [
        "### Квантованный полносвязный слой"
      ]
    },
    {
      "cell_type": "markdown",
      "metadata": {
        "id": "znsT4EWL5tA5"
      },
      "source": [
        "Для квантованного полносвязного слоя мы сначала предварительно вычисляем $Q_{\\mathrm{bias}}$. Напомним, что $Q_{\\mathrm{bias}} = q_{\\mathrm{bias}} - \\mathrm{Linear}[Z_{\\mathrm{input}}, q_{\\mathrm{weight}}]$."
      ]
    },
    {
      "cell_type": "code",
      "execution_count": null,
      "metadata": {
        "id": "4rnNs4MN5tgF"
      },
      "outputs": [],
      "source": [
        "def shift_quantized_linear_bias(quantized_bias, quantized_weight, input_zero_point):\n",
        "    \"\"\"\n",
        "    сдвиг квантованного смещения для включения input_zero_point для nn.Linear\n",
        "        shifted_quantized_bias = quantized_bias - Linear(input_zero_point, quantized_weight)\n",
        "    :param quantized_bias: [torch.IntTensor] квантованный bias (torch.int32)\n",
        "    :param quantized_weight: [torch.CharTensor] квантованный вес (torch.int8)\n",
        "    :param input_zero_point: [int] входная нулевая точка\n",
        "    :return:\n",
        "        [torch.IntTensor] смещенный тензор с bias\n",
        "    \"\"\"\n",
        "    assert(quantized_bias.dtype == torch.int32)\n",
        "    assert(isinstance(input_zero_point, int))\n",
        "    return quantized_bias - quantized_weight.sum(1).to(torch.int32) * input_zero_point"
      ]
    },
    {
      "cell_type": "markdown",
      "metadata": {
        "id": "DqNMxMzk3cDz"
      },
      "source": [
        "#### Задание 7\n",
        "Дополните следующую функцию квантованного полносвязного слоя вывода.\n",
        "\n",
        "**Подсказка**:\n",
        "\n",
        "> $q_{\\mathrm{output}} = (\\mathrm{Linear}[q_{\\mathrm{input}}, q_{\\mathrm{weight}}] + Q_{\\mathrm{bias}})\\cdot (S_{\\mathrm{input}} S_{\\mathrm{weight}} / S_{\\mathrm{output}}) + Z_{\\mathrm{output}}$"
      ]
    },
    {
      "cell_type": "code",
      "execution_count": null,
      "metadata": {
        "id": "3PVvI7jP3cMo"
      },
      "outputs": [],
      "source": [
        "def quantized_linear(input, weight, bias, feature_bitwidth, weight_bitwidth,\n",
        "                     input_zero_point, output_zero_point,\n",
        "                     input_scale, weight_scale, output_scale):\n",
        "    \"\"\"\n",
        "    квантованный полносвязный слой\n",
        "    :param input: [torch.CharTensor] квантованный вход (torch.int8)\n",
        "    :param weight: [torch.CharTensor] квантованный выход (torch.int8)\n",
        "    :param bias: [torch.IntTensor] квантованный bias со сдвигом или None (torch.int32)\n",
        "    :param feature_bitwidth: [int] разрядность квантования входа и выхода\n",
        "    :param weight_bitwidth: [int] разрядность квантования веса\n",
        "    :param input_zero_point: [int] нулевая точка для входа\n",
        "    :param output_zero_point: [int] нулевая точка для выхода\n",
        "    :param input_scale: [float] масштаб для входных признаков\n",
        "    :param weight_scale: [torch.FloatTensor] масштаб для веса по каналам\n",
        "    :param output_scale: [float] масштаб для выходных признаков\n",
        "    :return:\n",
        "        [torch.CharIntTensor] квантованные значения выходных признаков (torch.int8)\n",
        "    \"\"\"\n",
        "    assert(input.dtype == torch.int8)\n",
        "    assert(weight.dtype == input.dtype)\n",
        "    assert(bias is None or bias.dtype == torch.int32)\n",
        "    assert(isinstance(input_zero_point, int))\n",
        "    assert(isinstance(output_zero_point, int))\n",
        "    assert(isinstance(input_scale, float))\n",
        "    assert(isinstance(output_scale, float))\n",
        "    assert(weight_scale.dtype == torch.float)\n",
        "\n",
        "    # Step 1: целочисленный полносвязный (8-bit умножение с 32-bit сложением)\n",
        "    if 'cpu' in input.device.type:\n",
        "        # use 32-b MAC for simplicity\n",
        "        output = torch.nn.functional.linear(input.to(torch.int32), weight.to(torch.int32), bias)\n",
        "    else:\n",
        "        # текущая версия pytorch пока не поддерживает целочисленное linear() на GPU\n",
        "        output = torch.nn.functional.linear(input.float(), weight.float(), bias.float())\n",
        "\n",
        "    ############### YOUR CODE STARTS HERE ###############\n",
        "\n",
        "    # Step 2: масштабируем output\n",
        "\n",
        "    # подсказка: 1. коэффициенты масштабирования — это числа с плавающей точкой,\n",
        "    # нам также нужно преобразовать output в число с плавающей точкой\n",
        "    # подсказка: 2. форма тензора коэфф. масштаба весов — [oc, 1, 1, 1], а форма вывода — [batch_size, oc]\n",
        "\n",
        "    output = 0\n",
        "\n",
        "    # Step 3: сдвигаем выход по значению output_zero_point\n",
        "\n",
        "    output = 0\n",
        "\n",
        "    ############### YOUR CODE ENDS HERE #################\n",
        "\n",
        "    # убедимся, что все значения находятся в диапазоне битовой ширины.\n",
        "    output = output.round().clamp(*get_quantized_range(feature_bitwidth)).to(torch.int8)\n",
        "    return output"
      ]
    },
    {
      "cell_type": "markdown",
      "metadata": {
        "id": "115enVamIG_e"
      },
      "source": [
        "Проверим функциональность определенного квантованного полносвязного слоя."
      ]
    },
    {
      "cell_type": "code",
      "execution_count": null,
      "metadata": {
        "id": "HWmsLxgHH_B3"
      },
      "outputs": [],
      "source": [
        "test_quantized_fc()"
      ]
    },
    {
      "cell_type": "markdown",
      "metadata": {
        "id": "ATooyRrH50ls"
      },
      "source": [
        "### Квантованная свертка"
      ]
    },
    {
      "cell_type": "markdown",
      "metadata": {
        "id": "8mk1Ziof51JG"
      },
      "source": [
        "Для квантованного сверточного слоя мы сначала предварительно вычисляем $Q_{\\mathrm{bias}}$. Напомним, что $Q_{\\mathrm{bias}} = q_{\\mathrm{bias}} - \\mathrm{CONV}[Z_{\\mathrm{input}}, q_{\\mathrm{weight}}]$."
      ]
    },
    {
      "cell_type": "code",
      "execution_count": null,
      "metadata": {
        "id": "wEeANE_I53hz"
      },
      "outputs": [],
      "source": [
        "def shift_quantized_conv2d_bias(quantized_bias, quantized_weight, input_zero_point):\n",
        "    \"\"\"\n",
        "    сдвиг квантованного bias'a для включения input_zero_point для nn.Conv2d\n",
        "        shifted_quantized_bias = quantized_bias - Conv(input_zero_point, quantized_weight)\n",
        "    :param quantized_bias: [torch.IntTensor] квантованный bias (torch.int32)\n",
        "    :param quantized_weight: [torch.CharTensor] квантованный вес (torch.int8)\n",
        "    :param input_zero_point: [int] нулевая точка для входных значений\n",
        "    :return:\n",
        "        [torch.IntTensor] квантованный тензор bias'ов со сдвигом\n",
        "    \"\"\"\n",
        "    assert(quantized_bias.dtype == torch.int32)\n",
        "    assert(isinstance(input_zero_point, int))\n",
        "    return quantized_bias - quantized_weight.sum((1,2,3)).to(torch.int32) * input_zero_point"
      ]
    },
    {
      "cell_type": "markdown",
      "metadata": {
        "id": "0x2SqxOp23cw"
      },
      "source": [
        "#### Задание 8\n",
        "Дополните следующую квантованную функцию свертки.\n",
        "\n",
        "**Подсказка**:\n",
        "> $q_{\\mathrm{output}} = (\\mathrm{CONV}[q_{\\mathrm{input}}, q_{\\mathrm{weight}}] + Q_{\\mathrm{bias}}) \\cdot (S_{\\mathrm{input}}S_{\\mathrm{weight}} / S_{\\mathrm{output}}) + Z_{\\mathrm{output}}$"
      ]
    },
    {
      "cell_type": "code",
      "execution_count": null,
      "metadata": {
        "id": "LVRqhiUno65x"
      },
      "outputs": [],
      "source": [
        "def quantized_conv2d(input, weight, bias, feature_bitwidth, weight_bitwidth,\n",
        "                     input_zero_point, output_zero_point,\n",
        "                     input_scale, weight_scale, output_scale,\n",
        "                     stride, padding, dilation, groups):\n",
        "    \"\"\"\n",
        "    quantized 2d convolution\n",
        "    квантованная 2d свертка\n",
        "    :param input: [torch.CharTensor] квантованный вход (torch.int8)\n",
        "    :param weight: [torch.CharTensor] квантованны вес (torch.int8)\n",
        "    :param bias: [torch.IntTensor] квантованный bias co сдвигом или None (torch.int32)\n",
        "    :param feature_bitwidth: [int] разрядность квантованя входа и выхода\n",
        "    :param weight_bitwidth: [int] разрядность квантования весов\n",
        "    :param input_zero_point: [int] нулевая точка для inputs\n",
        "    :param output_zero_point: [int] нулевая точка для outputs\n",
        "    :param input_scale: [float] коэфф. масштаб входных признаков\n",
        "    :param weight_scale: [torch.FloatTensor] коэфф. масштаба весов по каналам\n",
        "    :param output_scale: [float] коэфф. масштаб выходных признаков\n",
        "    :return:\n",
        "        [torch.(cuda.)CharTensor] квантованный тензор выходных признаков\n",
        "    \"\"\"\n",
        "    assert(len(padding) == 4)\n",
        "    assert(input.dtype == torch.int8)\n",
        "    assert(weight.dtype == input.dtype)\n",
        "    assert(bias is None or bias.dtype == torch.int32)\n",
        "    assert(isinstance(input_zero_point, int))\n",
        "    assert(isinstance(output_zero_point, int))\n",
        "    assert(isinstance(input_scale, float))\n",
        "    assert(isinstance(output_scale, float))\n",
        "    assert(weight_scale.dtype == torch.float)\n",
        "\n",
        "    # Step 1: считаем целочисленную 2d свертку (8-bit умножение с 32-bit сложением)\n",
        "    input = torch.nn.functional.pad(input, padding, 'constant', input_zero_point)\n",
        "    if 'cpu' in input.device.type:\n",
        "        # use 32-b MAC for simplicity\n",
        "        output = torch.nn.functional.conv2d(input.to(torch.int32), weight.to(torch.int32), None, stride, 0, dilation, groups)\n",
        "    else:\n",
        "        # текущая версия pytorch не поддерживает целочисленное conv2d() на GPU\n",
        "        output = torch.nn.functional.conv2d(input.float(), weight.float(), None, stride, 0, dilation, groups)\n",
        "        output = output.round().to(torch.int32)\n",
        "    if bias is not None:\n",
        "        output = output + bias.view(1, -1, 1, 1)\n",
        "\n",
        "    ############### YOUR CODE STARTS HERE ###############\n",
        "\n",
        "    # подсказка: этот блок кода должен быть очень похож на quantized_linear()\n",
        "\n",
        "    # Step 2: масштабируем output\n",
        "    # подсказка: 1. коэффициенты масштабирования — это числа с плавающей точкой,\n",
        "    # нам также нужно преобразовать output в число с плавающей точкой\n",
        "    # подсказка: 2. форма тензора коэфф. масштаба весов — [oc, 1, 1, 1], а форма вывода — [batch_size, oc, height, width]\n",
        "\n",
        "    output = 0\n",
        "\n",
        "    # Step 3: сдвигаем выход по значению output_zero_point\n",
        "\n",
        "    output = 0\n",
        "\n",
        "    ############### YOUR CODE ENDS HERE #################\n",
        "\n",
        "    # убедимся, что все значения лежат в диапазоне битовой ширины\n",
        "    output = output.round().clamp(*get_quantized_range(feature_bitwidth)).to(torch.int8)\n",
        "    return output"
      ]
    },
    {
      "cell_type": "markdown",
      "metadata": {
        "id": "32vvQ4WJHVlA"
      },
      "source": [
        "## Задание 9\n",
        "Собираем все вместе и выполняем квантование `int8` после обучения для модели. Мы преобразуем сверточные и линейные слои в модели в квантованную версию один за другим.\n",
        "\n",
        "1. Во-первых, мы объединим слой BatchNorm с его предыдущим свёрточным слоем, что является стандартной практикой перед квантованием. Объединение batchnorm уменьшает дополнительное умножение во время инференса.\n",
        "\n",
        "Также проверим, что модель после объединения `model_fused` имеет ту же точность, что и исходная модель (слияние BN является эквивалентным преобразованием, которое не меняет функциональность сети).\n"
      ]
    },
    {
      "cell_type": "code",
      "execution_count": null,
      "metadata": {
        "id": "V2K8KSl7IE4D"
      },
      "outputs": [],
      "source": [
        "def fuse_conv_bn(conv, bn):\n",
        "    # modified from https://mmcv.readthedocs.io/en/latest/_modules/mmcv/cnn/utils/fuse_conv_bn.html\n",
        "    assert conv.bias is None\n",
        "\n",
        "    factor = bn.weight.data / torch.sqrt(bn.running_var.data + bn.eps)\n",
        "    conv.weight.data = conv.weight.data * factor.reshape(-1, 1, 1, 1)\n",
        "    conv.bias = nn.Parameter(- bn.running_mean.data * factor + bn.bias.data)\n",
        "\n",
        "    return conv\n",
        "\n",
        "print('Before conv-bn fusion: backbone length', len(model.backbone))\n",
        "# объединим batchnorm в сверточные слои\n",
        "recover_model()\n",
        "model_fused = copy.deepcopy(model)\n",
        "fused_backbone = []\n",
        "ptr = 0\n",
        "while ptr < len(model_fused.backbone):\n",
        "    if isinstance(model_fused.backbone[ptr], nn.Conv2d) and \\\n",
        "        isinstance(model_fused.backbone[ptr + 1], nn.BatchNorm2d):\n",
        "        fused_backbone.append(fuse_conv_bn(\n",
        "            model_fused.backbone[ptr], model_fused.backbone[ptr+ 1]))\n",
        "        ptr += 2\n",
        "    else:\n",
        "        fused_backbone.append(model_fused.backbone[ptr])\n",
        "        ptr += 1\n",
        "model_fused.backbone = nn.Sequential(*fused_backbone)\n",
        "\n",
        "print('After conv-bn fusion: backbone length', len(model_fused.backbone))\n",
        "# проверка работоспособности, больше нет BN\n",
        "for m in model_fused.modules():\n",
        "    assert not isinstance(m, nn.BatchNorm2d)\n",
        "\n",
        "# точность останется прежней после слияния\n",
        "fused_acc = evaluate(model_fused, dataloader['test'])\n",
        "print(f'Accuracy of the fused model={fused_acc:.2f}%')"
      ]
    },
    {
      "cell_type": "markdown",
      "metadata": {
        "id": "oCOXprerMY5t"
      },
      "source": [
        "2. Запустим модель с некоторыми образцами данных, чтобы получить диапазон каждой карты признаков, чтобы мы могли получить диапазон карт признаков и вычислить их соответствующие коэффициенты масштабирования и нулевые точки.\n"
      ]
    },
    {
      "cell_type": "code",
      "execution_count": null,
      "metadata": {
        "id": "CjKrC7L-UrxZ"
      },
      "outputs": [],
      "source": [
        "# добавим логирование минимального и максимального значения активации\n",
        "input_activation = {}\n",
        "output_activation = {}\n",
        "\n",
        "def add_range_recoder_hook(model):\n",
        "    import functools\n",
        "    def _record_range(self, x, y, module_name):\n",
        "        x = x[0]\n",
        "        input_activation[module_name] = x.detach()\n",
        "        output_activation[module_name] = y.detach()\n",
        "\n",
        "    all_hooks = []\n",
        "    for name, m in model.named_modules():\n",
        "        if isinstance(m, (nn.Conv2d, nn.Linear, nn.ReLU)):\n",
        "            all_hooks.append(m.register_forward_hook(\n",
        "                functools.partial(_record_range, module_name=name)))\n",
        "    return all_hooks\n",
        "\n",
        "hooks = add_range_recoder_hook(model_fused)\n",
        "sample_data = iter(dataloader['train']).__next__()[0]\n",
        "model_fused(sample_data.cuda())\n",
        "\n",
        "# remove hooks\n",
        "for h in hooks:\n",
        "    h.remove()\n"
      ]
    },
    {
      "cell_type": "markdown",
      "metadata": {
        "id": "uq3fvyx_6bLW"
      },
      "source": [
        "3. Наконец, сделаем квантование модели. Мы преобразуем модель в следующее отображение\n",
        "\n",
        "\n",
        "```python\n",
        "nn.Conv2d: QuantizedConv2d,\n",
        "nn.Linear: QuantizedLinear,\n",
        "# следующие два — просто обертка, так как текущие\n",
        "# модули torch не поддерживают формат данных int8;\n",
        "# временно преобразуем их в fp32 для вычислений\n",
        "nn.MaxPool2d: QuantizedMaxPool2d,\n",
        "nn.AvgPool2d: QuantizedAvgPool2d,\n",
        "```"
      ]
    },
    {
      "cell_type": "code",
      "execution_count": null,
      "metadata": {
        "id": "iFD5W0H1Zban"
      },
      "outputs": [],
      "source": [
        "class QuantizedConv2d(nn.Module):\n",
        "    def __init__(self, weight, bias,\n",
        "                 input_zero_point, output_zero_point,\n",
        "                 input_scale, weight_scale, output_scale,\n",
        "                 stride, padding, dilation, groups,\n",
        "                 feature_bitwidth=8, weight_bitwidth=8):\n",
        "        super().__init__()\n",
        "        # текущая версия Pytorch не поддерживает IntTensor как nn.Parameter\n",
        "        self.register_buffer('weight', weight)\n",
        "        self.register_buffer('bias', bias)\n",
        "\n",
        "        self.input_zero_point = input_zero_point\n",
        "        self.output_zero_point = output_zero_point\n",
        "\n",
        "        self.input_scale = input_scale\n",
        "        self.register_buffer('weight_scale', weight_scale)\n",
        "        self.output_scale = output_scale\n",
        "\n",
        "        self.stride = stride\n",
        "        self.padding = (padding[1], padding[1], padding[0], padding[0])\n",
        "        self.dilation = dilation\n",
        "        self.groups = groups\n",
        "\n",
        "        self.feature_bitwidth = feature_bitwidth\n",
        "        self.weight_bitwidth = weight_bitwidth\n",
        "\n",
        "\n",
        "    def forward(self, x):\n",
        "        return quantized_conv2d(\n",
        "            x, self.weight, self.bias,\n",
        "            self.feature_bitwidth, self.weight_bitwidth,\n",
        "            self.input_zero_point, self.output_zero_point,\n",
        "            self.input_scale, self.weight_scale, self.output_scale,\n",
        "            self.stride, self.padding, self.dilation, self.groups\n",
        "            )\n",
        "\n",
        "class QuantizedLinear(nn.Module):\n",
        "    def __init__(self, weight, bias,\n",
        "                 input_zero_point, output_zero_point,\n",
        "                 input_scale, weight_scale, output_scale,\n",
        "                 feature_bitwidth=8, weight_bitwidth=8):\n",
        "        super().__init__()\n",
        "        # текущая версия Pytorch не поддерживает IntTensor как nn.Parameter\n",
        "        self.register_buffer('weight', weight)\n",
        "        self.register_buffer('bias', bias)\n",
        "\n",
        "        self.input_zero_point = input_zero_point\n",
        "        self.output_zero_point = output_zero_point\n",
        "\n",
        "        self.input_scale = input_scale\n",
        "        self.register_buffer('weight_scale', weight_scale)\n",
        "        self.output_scale = output_scale\n",
        "\n",
        "        self.feature_bitwidth = feature_bitwidth\n",
        "        self.weight_bitwidth = weight_bitwidth\n",
        "\n",
        "    def forward(self, x):\n",
        "        return quantized_linear(\n",
        "            x, self.weight, self.bias,\n",
        "            self.feature_bitwidth, self.weight_bitwidth,\n",
        "            self.input_zero_point, self.output_zero_point,\n",
        "            self.input_scale, self.weight_scale, self.output_scale\n",
        "            )\n",
        "\n",
        "class QuantizedMaxPool2d(nn.MaxPool2d):\n",
        "    def forward(self, x):\n",
        "        # текущая версия pytorch не поддерживает целочисленный MaxPool\n",
        "        return super().forward(x.float()).to(torch.int8)\n",
        "\n",
        "class QuantizedAvgPool2d(nn.AvgPool2d):\n",
        "    def forward(self, x):\n",
        "        # текущая версия pytorch не поддерживает целочисленный AvgPool\n",
        "        return super().forward(x.float()).to(torch.int8)\n",
        "\n",
        "# используем int8 квантование\n",
        "feature_bitwidth = weight_bitwidth = 8\n",
        "quantized_model = copy.deepcopy(model_fused)\n",
        "quantized_backbone = []\n",
        "ptr = 0\n",
        "while ptr < len(quantized_model.backbone):\n",
        "    if isinstance(quantized_model.backbone[ptr], nn.Conv2d) and \\\n",
        "        isinstance(quantized_model.backbone[ptr + 1], nn.ReLU):\n",
        "        conv = quantized_model.backbone[ptr]\n",
        "        conv_name = f'backbone.{ptr}'\n",
        "        relu = quantized_model.backbone[ptr + 1]\n",
        "        relu_name = f'backbone.{ptr + 1}'\n",
        "\n",
        "        input_scale, input_zero_point = \\\n",
        "            get_quantization_scale_and_zero_point(\n",
        "                input_activation[conv_name], feature_bitwidth)\n",
        "\n",
        "        output_scale, output_zero_point = \\\n",
        "            get_quantization_scale_and_zero_point(\n",
        "                output_activation[relu_name], feature_bitwidth)\n",
        "\n",
        "        quantized_weight, weight_scale, weight_zero_point = \\\n",
        "            linear_quantize_weight_per_channel(conv.weight.data, weight_bitwidth)\n",
        "        quantized_bias, bias_scale, bias_zero_point = \\\n",
        "            linear_quantize_bias_per_output_channel(\n",
        "                conv.bias.data, weight_scale, input_scale)\n",
        "        shifted_quantized_bias = \\\n",
        "            shift_quantized_conv2d_bias(quantized_bias, quantized_weight,\n",
        "                                        input_zero_point)\n",
        "\n",
        "        quantized_conv = QuantizedConv2d(\n",
        "            quantized_weight, shifted_quantized_bias,\n",
        "            input_zero_point, output_zero_point,\n",
        "            input_scale, weight_scale, output_scale,\n",
        "            conv.stride, conv.padding, conv.dilation, conv.groups,\n",
        "            feature_bitwidth=feature_bitwidth, weight_bitwidth=weight_bitwidth\n",
        "        )\n",
        "\n",
        "        quantized_backbone.append(quantized_conv)\n",
        "        ptr += 2\n",
        "    elif isinstance(quantized_model.backbone[ptr], nn.MaxPool2d):\n",
        "        quantized_backbone.append(QuantizedMaxPool2d(\n",
        "            kernel_size=quantized_model.backbone[ptr].kernel_size,\n",
        "            stride=quantized_model.backbone[ptr].stride\n",
        "            ))\n",
        "        ptr += 1\n",
        "    elif isinstance(quantized_model.backbone[ptr], nn.AvgPool2d):\n",
        "        quantized_backbone.append(QuantizedAvgPool2d(\n",
        "            kernel_size=quantized_model.backbone[ptr].kernel_size,\n",
        "            stride=quantized_model.backbone[ptr].stride\n",
        "            ))\n",
        "        ptr += 1\n",
        "    else:\n",
        "        raise NotImplementedError(type(quantized_model.backbone[ptr]))  # should not happen\n",
        "quantized_model.backbone = nn.Sequential(*quantized_backbone)\n",
        "\n",
        "# квантованный классификатор\n",
        "fc_name = 'classifier'\n",
        "fc = model.classifier\n",
        "input_scale, input_zero_point = \\\n",
        "    get_quantization_scale_and_zero_point(\n",
        "        input_activation[fc_name], feature_bitwidth)\n",
        "\n",
        "output_scale, output_zero_point = \\\n",
        "    get_quantization_scale_and_zero_point(\n",
        "        output_activation[fc_name], feature_bitwidth)\n",
        "\n",
        "quantized_weight, weight_scale, weight_zero_point = \\\n",
        "    linear_quantize_weight_per_channel(fc.weight.data, weight_bitwidth)\n",
        "quantized_bias, bias_scale, bias_zero_point = \\\n",
        "    linear_quantize_bias_per_output_channel(\n",
        "        fc.bias.data, weight_scale, input_scale)\n",
        "shifted_quantized_bias = \\\n",
        "    shift_quantized_linear_bias(quantized_bias, quantized_weight,\n",
        "                                input_zero_point)\n",
        "\n",
        "quantized_model.classifier = QuantizedLinear(\n",
        "    quantized_weight, shifted_quantized_bias,\n",
        "    input_zero_point, output_zero_point,\n",
        "    input_scale, weight_scale, output_scale,\n",
        "    feature_bitwidth=feature_bitwidth, weight_bitwidth=weight_bitwidth\n",
        ")"
      ]
    },
    {
      "cell_type": "markdown",
      "metadata": {
        "id": "YIPgF84IygCy"
      },
      "source": [
        "Процесс квантования завершен, визуализируем архитектуру, а также проверим точность квантованной модели.\n"
      ]
    },
    {
      "cell_type": "markdown",
      "metadata": {
        "id": "vGkf1sf27uFj"
      },
      "source": [
        "### Задание 9.1\n",
        "\n",
        "Чтобы запустить квантованную модель, нам нужна дополнительная предварительная обработка для преобразования входных данных из диапазона (0, 1) в диапазон `int8` (-128, 127). Дополните код ниже, чтобы завершить препроцессинг.\n",
        "\n",
        "**Подсказка**: вы должны обнаружить, что квантованная модель имеет примерно такую ​​же точность, как и аналог `fp32`.\n"
      ]
    },
    {
      "cell_type": "code",
      "execution_count": null,
      "metadata": {
        "id": "PEZT47BE6dXe"
      },
      "outputs": [],
      "source": [
        "print(quantized_model)\n",
        "\n",
        "def extra_preprocess(x):\n",
        "    # hint: вам необходимо преобразовать исходный ввод fp32 диапазона (0, 1)\n",
        "    #  в формат int8 в диапазоне (-128, 127)\n",
        "    ############### YOUR CODE STARTS HERE ###############\n",
        "\n",
        "    return 0.clamp(-128, 127).to(torch.int8)\n",
        "\n",
        "    ############### YOUR CODE ENDS HERE #################\n",
        "\n",
        "int8_model_accuracy = evaluate(quantized_model, dataloader['test'],\n",
        "                               extra_preprocess=[extra_preprocess])\n",
        "print(f\"int8 model has accuracy={int8_model_accuracy:.2f}%\")"
      ]
    },
    {
      "cell_type": "markdown",
      "metadata": {
        "id": "61iwKRAA8A7c"
      },
      "source": [
        "\n",
        "### Задание 9.2\n",
        "Вопрос: Объясните, почему в линейно-квантованной модели нет слоя ReLU."
      ]
    },
    {
      "cell_type": "markdown",
      "metadata": {
        "id": "8Ewbt01T8F1b"
      },
      "source": [
        "**Your Answer:**\n"
      ]
    },
    {
      "cell_type": "markdown",
      "metadata": {
        "id": "HhSnPZpD7ye9"
      },
      "source": [
        "## Задание 10\n",
        "\n",
        "Вопрос: Сравните преимущества и недостатки квантования на основе k-средних и линейного квантования. Можно сразу начать с точки зрения точности, задержки, аппаратной поддержки и т. д.\n"
      ]
    },
    {
      "cell_type": "markdown",
      "metadata": {
        "id": "mhlf55UM73yA"
      },
      "source": [
        "**Your Answer:**\n",
        "\n"
      ]
    }
  ],
  "metadata": {
    "accelerator": "GPU",
    "colab": {
      "collapsed_sections": [
        "2tFjnZZVlIFL"
      ],
      "provenance": [],
      "include_colab_link": true
    },
    "gpuClass": "standard",
    "kernelspec": {
      "display_name": "Python 3",
      "name": "python3"
    },
    "language_info": {
      "name": "python"
    }
  },
  "nbformat": 4,
  "nbformat_minor": 0
}